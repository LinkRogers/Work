{
 "cells": [
  {
   "cell_type": "code",
   "execution_count": 47,
   "metadata": {},
   "outputs": [],
   "source": [
    "import os\n",
    "import imageio\n",
    "import numpy as np\n",
    "from moviepy.editor import ImageSequenceClip,write_videofile\n",
    "\n",
    "def get_video(im_path_list):\n",
    "    im_folder,im_name = os.path.split(im_path_list[0])\n",
    "    root, plot_name = os.path.split(im_folder)\n",
    "\n",
    "    clip = ImageSequenceClip(im_path_list, fps = 1)\n",
    "    video_name = plot_name+'.mp4'\n",
    "    video_path = os.path.join(root, 'videos')\n",
    "    if not os.path.exists(video_path):\n",
    "        os.makedirs(video_path)\n",
    "    #write to video\n",
    "    clip.write_videofile(os.path.join(video_path, video_name))\n",
    "\n",
    "def get_image_path_list(plot_path):\n",
    "    files= os.listdir(plot_path)\n",
    "    \n",
    "    activation_png_list = [png for png in files if 'activation.png' in png]\n",
    "    activation_png_list = sorted(activation_png_list, key = lambda x : int(x[5:x.find('_')]))\n",
    "    activation_png_list = [os.path.join(plot_path,png) for png in activation_png_list]\n",
    "    \n",
    "    return activation_png_list"
   ]
  },
  {
   "cell_type": "code",
   "execution_count": 50,
   "metadata": {},
   "outputs": [
    {
     "name": "stderr",
     "output_type": "stream",
     "text": [
      "                                                  "
     ]
    },
    {
     "name": "stdout",
     "output_type": "stream",
     "text": [
      "Moviepy - Building video iterasive_result/videos/model_30_30_2_color_plot.mp4.\n",
      "Moviepy - Writing video iterasive_result/videos/model_30_30_2_color_plot.mp4\n",
      "\n"
     ]
    },
    {
     "name": "stderr",
     "output_type": "stream",
     "text": [
      "\r"
     ]
    },
    {
     "name": "stdout",
     "output_type": "stream",
     "text": [
      "Moviepy - Done !\n",
      "Moviepy - video ready iterasive_result/videos/model_30_30_2_color_plot.mp4\n",
      "Moviepy - Building video iterasive_result/videos/model_60_30_2_color_plot.mp4.\n",
      "Moviepy - Writing video iterasive_result/videos/model_60_30_2_color_plot.mp4\n",
      "\n"
     ]
    },
    {
     "name": "stderr",
     "output_type": "stream",
     "text": [
      "                                                  \r"
     ]
    },
    {
     "name": "stdout",
     "output_type": "stream",
     "text": [
      "Moviepy - Done !\n",
      "Moviepy - video ready iterasive_result/videos/model_60_30_2_color_plot.mp4\n"
     ]
    }
   ],
   "source": [
    "if __name__ == '__main__':\n",
    "    first_layer = [4,10,20,30,60]\n",
    "    second_layer = [4,10,20,30,60]\n",
    "    colorplot_path_list = []\n",
    "    for i in first_layer:\n",
    "        for j in second_layer:\n",
    "            path = 'iterasive_result/model_'+str(i)+'_'+str(j)+'_2_color_plot'\n",
    "            if os.path.exists(path):\n",
    "                colorplot_path_list.append(path)\n",
    "\n",
    "    for colorplot_path in colorplot_path_list:\n",
    "        activation_png_list = get_image_path_list(colorplot_path)\n",
    "        get_video(activation_png_list)"
   ]
  },
  {
   "cell_type": "code",
   "execution_count": 52,
   "metadata": {},
   "outputs": [
    {
     "data": {
      "text/html": [
       "<video src=\"iterasive_result/videos/model_60_30_2_color_plot.mp4\" controls  >\n",
       "      Your browser does not support the <code>video</code> element.\n",
       "    </video>"
      ],
      "text/plain": [
       "<IPython.core.display.Video object>"
      ]
     },
     "execution_count": 52,
     "metadata": {},
     "output_type": "execute_result"
    }
   ],
   "source": [
    "from IPython.display import Video\n",
    "video_path = 'iterasive_result/videos/model_60_30_2_color_plot.mp4'\n",
    "Video(video_path)"
   ]
  },
  {
   "cell_type": "code",
   "execution_count": 49,
   "metadata": {},
   "outputs": [
    {
     "data": {
      "text/plain": [
       "['iterasive_result/model_30_30_2_color_plot',\n",
       " 'iterasive_result/model_60_30_2_color_plot']"
      ]
     },
     "execution_count": 49,
     "metadata": {},
     "output_type": "execute_result"
    }
   ],
   "source": [
    "colorplot_path_list"
   ]
  },
  {
   "cell_type": "code",
   "execution_count": null,
   "metadata": {},
   "outputs": [],
   "source": []
  }
 ],
 "metadata": {
  "kernelspec": {
   "display_name": "Python 3",
   "language": "python",
   "name": "python3"
  },
  "language_info": {
   "codemirror_mode": {
    "name": "ipython",
    "version": 3
   },
   "file_extension": ".py",
   "mimetype": "text/x-python",
   "name": "python",
   "nbconvert_exporter": "python",
   "pygments_lexer": "ipython3",
   "version": "3.6.8"
  }
 },
 "nbformat": 4,
 "nbformat_minor": 2
}

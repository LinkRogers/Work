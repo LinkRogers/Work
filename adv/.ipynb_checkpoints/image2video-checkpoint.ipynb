{
 "cells": [
  {
   "cell_type": "code",
   "execution_count": 58,
   "metadata": {},
   "outputs": [],
   "source": [
    "import os\n",
    "import imageio\n",
    "import numpy as np\n",
    "from moviepy.editor import *\n",
    "\n",
    "def get_video(im_path_list):\n",
    "    im_folder,im_name = os.path.split(im_path_list[0])\n",
    "    model_result_root, plot_name = os.path.split(im_folder)\n",
    "    result_root, model_name = os.path.split(model_result_root)\n",
    "    \n",
    "    clip = ImageSequenceClip(im_path_list, fps = 1)\n",
    "    video_name = model_name+'_'+plot_name+'.mp4'\n",
    "    video_path = os.path.join(result_root, 'videos')\n",
    "    if not os.path.exists(video_path):\n",
    "        os.makedirs(video_path)\n",
    "    #write to video\n",
    "    clip.write_videofile(os.path.join(video_path, video_name))\n",
    "\n",
    "def get_image_path_list(result_path):\n",
    "    act_plot_path = os.path.join(result_path,'activation_plot')\n",
    "    pred_plot_path = os.path.join(result_path,'prediction_plot')\n",
    "    act_files= os.listdir(act_plot_path)\n",
    "    pred_files= os.listdir(pred_plot_path)\n",
    "    \n",
    "    activation_png_list = [png for png in act_files if 'activation' in png]\n",
    "    activation_png_list = sorted(activation_png_list, key = lambda x : int(x[x.find('h')+1:x.find('.')]))\n",
    "    activation_png_list = [os.path.join(act_plot_path,png) for png in activation_png_list]\n",
    "    \n",
    "    prediction_png_list = [png for png in pred_files if 'prediction' in png]\n",
    "    prediction_png_list = sorted(prediction_png_list, key = lambda x : int(x[x.find('h')+1:x.find('.')]))\n",
    "    prediction_png_list = [os.path.join(pred_plot_path,png) for png in prediction_png_list]\n",
    "    \n",
    "    if activation_png_list==[] or prediction_png_list==[]:\n",
    "        print('empty list!')\n",
    "    else:\n",
    "        return activation_png_list,prediction_png_list"
   ]
  },
  {
   "cell_type": "code",
   "execution_count": 59,
   "metadata": {},
   "outputs": [
    {
     "name": "stderr",
     "output_type": "stream",
     "text": [
      "t:   4%|▍         | 4/100 [00:00<00:02, 39.86it/s, now=None]"
     ]
    },
    {
     "name": "stdout",
     "output_type": "stream",
     "text": [
      "Moviepy - Building video iterasive_result/videos/model_4_4_2_color_plot.mp4.\n",
      "Moviepy - Writing video iterasive_result/videos/model_4_4_2_color_plot.mp4\n",
      "\n"
     ]
    },
    {
     "name": "stderr",
     "output_type": "stream",
     "text": [
      "                                                             \r"
     ]
    },
    {
     "name": "stdout",
     "output_type": "stream",
     "text": [
      "Moviepy - Done !\n",
      "Moviepy - video ready iterasive_result/videos/model_4_4_2_color_plot.mp4\n"
     ]
    },
    {
     "name": "stderr",
     "output_type": "stream",
     "text": [
      "t:   6%|▌         | 6/100 [00:00<00:02, 40.77it/s, now=None]"
     ]
    },
    {
     "name": "stdout",
     "output_type": "stream",
     "text": [
      "Moviepy - Building video iterasive_result/videos/model_4_10_2_color_plot.mp4.\n",
      "Moviepy - Writing video iterasive_result/videos/model_4_10_2_color_plot.mp4\n",
      "\n"
     ]
    },
    {
     "name": "stderr",
     "output_type": "stream",
     "text": [
      "                                                              \r"
     ]
    },
    {
     "name": "stdout",
     "output_type": "stream",
     "text": [
      "Moviepy - Done !\n",
      "Moviepy - video ready iterasive_result/videos/model_4_10_2_color_plot.mp4\n"
     ]
    },
    {
     "name": "stderr",
     "output_type": "stream",
     "text": [
      "t:   4%|▍         | 4/100 [00:00<00:02, 32.84it/s, now=None]"
     ]
    },
    {
     "name": "stdout",
     "output_type": "stream",
     "text": [
      "Moviepy - Building video iterasive_result/videos/model_4_20_2_color_plot.mp4.\n",
      "Moviepy - Writing video iterasive_result/videos/model_4_20_2_color_plot.mp4\n",
      "\n"
     ]
    },
    {
     "name": "stderr",
     "output_type": "stream",
     "text": [
      "                                                             \r"
     ]
    },
    {
     "name": "stdout",
     "output_type": "stream",
     "text": [
      "Moviepy - Done !\n",
      "Moviepy - video ready iterasive_result/videos/model_4_20_2_color_plot.mp4\n"
     ]
    },
    {
     "name": "stderr",
     "output_type": "stream",
     "text": [
      "t:   4%|▍         | 4/100 [00:00<00:03, 29.88it/s, now=None]"
     ]
    },
    {
     "name": "stdout",
     "output_type": "stream",
     "text": [
      "Moviepy - Building video iterasive_result/videos/model_4_30_2_color_plot.mp4.\n",
      "Moviepy - Writing video iterasive_result/videos/model_4_30_2_color_plot.mp4\n",
      "\n"
     ]
    },
    {
     "name": "stderr",
     "output_type": "stream",
     "text": [
      "                                                              \r"
     ]
    },
    {
     "name": "stdout",
     "output_type": "stream",
     "text": [
      "Moviepy - Done !\n",
      "Moviepy - video ready iterasive_result/videos/model_4_30_2_color_plot.mp4\n"
     ]
    },
    {
     "name": "stderr",
     "output_type": "stream",
     "text": [
      "t:   5%|▌         | 5/100 [00:00<00:02, 43.38it/s, now=None]"
     ]
    },
    {
     "name": "stdout",
     "output_type": "stream",
     "text": [
      "Moviepy - Building video iterasive_result/videos/model_4_60_2_color_plot.mp4.\n",
      "Moviepy - Writing video iterasive_result/videos/model_4_60_2_color_plot.mp4\n",
      "\n"
     ]
    },
    {
     "name": "stderr",
     "output_type": "stream",
     "text": [
      "                                                             \r"
     ]
    },
    {
     "name": "stdout",
     "output_type": "stream",
     "text": [
      "Moviepy - Done !\n",
      "Moviepy - video ready iterasive_result/videos/model_4_60_2_color_plot.mp4\n"
     ]
    },
    {
     "name": "stderr",
     "output_type": "stream",
     "text": [
      "t:   4%|▍         | 4/100 [00:00<00:02, 34.28it/s, now=None]"
     ]
    },
    {
     "name": "stdout",
     "output_type": "stream",
     "text": [
      "Moviepy - Building video iterasive_result/videos/model_10_4_2_color_plot.mp4.\n",
      "Moviepy - Writing video iterasive_result/videos/model_10_4_2_color_plot.mp4\n",
      "\n"
     ]
    },
    {
     "name": "stderr",
     "output_type": "stream",
     "text": [
      "                                                             \r"
     ]
    },
    {
     "name": "stdout",
     "output_type": "stream",
     "text": [
      "Moviepy - Done !\n",
      "Moviepy - video ready iterasive_result/videos/model_10_4_2_color_plot.mp4\n"
     ]
    },
    {
     "name": "stderr",
     "output_type": "stream",
     "text": [
      "t:   5%|▌         | 5/100 [00:00<00:02, 45.25it/s, now=None]"
     ]
    },
    {
     "name": "stdout",
     "output_type": "stream",
     "text": [
      "Moviepy - Building video iterasive_result/videos/model_10_10_2_color_plot.mp4.\n",
      "Moviepy - Writing video iterasive_result/videos/model_10_10_2_color_plot.mp4\n",
      "\n"
     ]
    },
    {
     "name": "stderr",
     "output_type": "stream",
     "text": [
      "                                                             \r"
     ]
    },
    {
     "name": "stdout",
     "output_type": "stream",
     "text": [
      "Moviepy - Done !\n",
      "Moviepy - video ready iterasive_result/videos/model_10_10_2_color_plot.mp4\n"
     ]
    },
    {
     "name": "stderr",
     "output_type": "stream",
     "text": [
      "t:   5%|▌         | 5/100 [00:00<00:02, 41.14it/s, now=None]"
     ]
    },
    {
     "name": "stdout",
     "output_type": "stream",
     "text": [
      "Moviepy - Building video iterasive_result/videos/model_10_20_2_color_plot.mp4.\n",
      "Moviepy - Writing video iterasive_result/videos/model_10_20_2_color_plot.mp4\n",
      "\n"
     ]
    },
    {
     "name": "stderr",
     "output_type": "stream",
     "text": [
      "                                                             \r"
     ]
    },
    {
     "name": "stdout",
     "output_type": "stream",
     "text": [
      "Moviepy - Done !\n",
      "Moviepy - video ready iterasive_result/videos/model_10_20_2_color_plot.mp4\n"
     ]
    },
    {
     "name": "stderr",
     "output_type": "stream",
     "text": [
      "t:   5%|▌         | 5/100 [00:00<00:02, 44.25it/s, now=None]"
     ]
    },
    {
     "name": "stdout",
     "output_type": "stream",
     "text": [
      "Moviepy - Building video iterasive_result/videos/model_10_30_2_color_plot.mp4.\n",
      "Moviepy - Writing video iterasive_result/videos/model_10_30_2_color_plot.mp4\n",
      "\n"
     ]
    },
    {
     "name": "stderr",
     "output_type": "stream",
     "text": [
      "                                                             \r"
     ]
    },
    {
     "name": "stdout",
     "output_type": "stream",
     "text": [
      "Moviepy - Done !\n",
      "Moviepy - video ready iterasive_result/videos/model_10_30_2_color_plot.mp4\n"
     ]
    },
    {
     "name": "stderr",
     "output_type": "stream",
     "text": [
      "t:   6%|▌         | 6/100 [00:00<00:01, 49.32it/s, now=None]"
     ]
    },
    {
     "name": "stdout",
     "output_type": "stream",
     "text": [
      "Moviepy - Building video iterasive_result/videos/model_10_60_2_color_plot.mp4.\n",
      "Moviepy - Writing video iterasive_result/videos/model_10_60_2_color_plot.mp4\n",
      "\n"
     ]
    },
    {
     "name": "stderr",
     "output_type": "stream",
     "text": [
      "                                                             \r"
     ]
    },
    {
     "name": "stdout",
     "output_type": "stream",
     "text": [
      "Moviepy - Done !\n",
      "Moviepy - video ready iterasive_result/videos/model_10_60_2_color_plot.mp4\n"
     ]
    },
    {
     "name": "stderr",
     "output_type": "stream",
     "text": [
      "t:   6%|▌         | 6/100 [00:00<00:02, 44.37it/s, now=None]"
     ]
    },
    {
     "name": "stdout",
     "output_type": "stream",
     "text": [
      "Moviepy - Building video iterasive_result/videos/model_20_4_2_color_plot.mp4.\n",
      "Moviepy - Writing video iterasive_result/videos/model_20_4_2_color_plot.mp4\n",
      "\n"
     ]
    },
    {
     "name": "stderr",
     "output_type": "stream",
     "text": [
      "                                                             \r"
     ]
    },
    {
     "name": "stdout",
     "output_type": "stream",
     "text": [
      "Moviepy - Done !\n",
      "Moviepy - video ready iterasive_result/videos/model_20_4_2_color_plot.mp4\n"
     ]
    },
    {
     "name": "stderr",
     "output_type": "stream",
     "text": [
      "t:   6%|▌         | 6/100 [00:00<00:02, 37.23it/s, now=None]"
     ]
    },
    {
     "name": "stdout",
     "output_type": "stream",
     "text": [
      "Moviepy - Building video iterasive_result/videos/model_20_10_2_color_plot.mp4.\n",
      "Moviepy - Writing video iterasive_result/videos/model_20_10_2_color_plot.mp4\n",
      "\n"
     ]
    },
    {
     "name": "stderr",
     "output_type": "stream",
     "text": [
      "                                                             \r"
     ]
    },
    {
     "name": "stdout",
     "output_type": "stream",
     "text": [
      "Moviepy - Done !\n",
      "Moviepy - video ready iterasive_result/videos/model_20_10_2_color_plot.mp4\n"
     ]
    },
    {
     "name": "stderr",
     "output_type": "stream",
     "text": [
      "t:   5%|▌         | 5/100 [00:00<00:02, 45.24it/s, now=None]"
     ]
    },
    {
     "name": "stdout",
     "output_type": "stream",
     "text": [
      "Moviepy - Building video iterasive_result/videos/model_20_20_2_color_plot.mp4.\n",
      "Moviepy - Writing video iterasive_result/videos/model_20_20_2_color_plot.mp4\n",
      "\n"
     ]
    },
    {
     "name": "stderr",
     "output_type": "stream",
     "text": [
      "                                                             \r"
     ]
    },
    {
     "name": "stdout",
     "output_type": "stream",
     "text": [
      "Moviepy - Done !\n",
      "Moviepy - video ready iterasive_result/videos/model_20_20_2_color_plot.mp4\n"
     ]
    },
    {
     "name": "stderr",
     "output_type": "stream",
     "text": [
      "t:   5%|▌         | 5/100 [00:00<00:02, 45.62it/s, now=None]"
     ]
    },
    {
     "name": "stdout",
     "output_type": "stream",
     "text": [
      "Moviepy - Building video iterasive_result/videos/model_20_30_2_color_plot.mp4.\n",
      "Moviepy - Writing video iterasive_result/videos/model_20_30_2_color_plot.mp4\n",
      "\n"
     ]
    },
    {
     "name": "stderr",
     "output_type": "stream",
     "text": [
      "                                                             \r"
     ]
    },
    {
     "name": "stdout",
     "output_type": "stream",
     "text": [
      "Moviepy - Done !\n",
      "Moviepy - video ready iterasive_result/videos/model_20_30_2_color_plot.mp4\n"
     ]
    },
    {
     "name": "stderr",
     "output_type": "stream",
     "text": [
      "t:   7%|▋         | 5/71 [00:00<00:01, 43.39it/s, now=None]"
     ]
    },
    {
     "name": "stdout",
     "output_type": "stream",
     "text": [
      "Moviepy - Building video iterasive_result/videos/model_20_60_2_color_plot.mp4.\n",
      "Moviepy - Writing video iterasive_result/videos/model_20_60_2_color_plot.mp4\n",
      "\n"
     ]
    },
    {
     "name": "stderr",
     "output_type": "stream",
     "text": [
      "                                                            \r"
     ]
    },
    {
     "name": "stdout",
     "output_type": "stream",
     "text": [
      "Moviepy - Done !\n",
      "Moviepy - video ready iterasive_result/videos/model_20_60_2_color_plot.mp4\n"
     ]
    }
   ],
   "source": [
    "if __name__ == '__main__':\n",
    "    first_layer = [7,8,9,10,20,30,60,90,180]\n",
    "    result_path_list = []\n",
    "    for i in first_layer:\n",
    "        result_path = 'iterasive_result/model_'+str(i)+'_2'\n",
    "        if os.path.exists(result_path):\n",
    "            result_path_list.append(result_path)\n",
    "\n",
    "    for result_path in result_path_list:\n",
    "        activation_png_list,prediction_png_list = get_image_path_list(result_path)\n",
    "        get_video(activation_png_list)\n",
    "        get_video(prediction_png_list)  "
   ]
  },
  {
   "cell_type": "code",
   "execution_count": 65,
   "metadata": {},
   "outputs": [
    {
     "data": {
      "text/html": [
       "<video src=\"iterasive_result/videos/model_20_60_2_color_plot.mp4\" controls  >\n",
       "      Your browser does not support the <code>video</code> element.\n",
       "    </video>"
      ],
      "text/plain": [
       "<IPython.core.display.Video object>"
      ]
     },
     "execution_count": 65,
     "metadata": {},
     "output_type": "execute_result"
    }
   ],
   "source": [
    "from IPython.display import Video\n",
    "video_path = 'iterasive_result/videos/model_20_60_2_color_plot.mp4'\n",
    "Video(video_path)"
   ]
  },
  {
   "cell_type": "code",
   "execution_count": 49,
   "metadata": {},
   "outputs": [
    {
     "data": {
      "text/plain": [
       "['iterasive_result/model_30_30_2_color_plot',\n",
       " 'iterasive_result/model_60_30_2_color_plot']"
      ]
     },
     "execution_count": 49,
     "metadata": {},
     "output_type": "execute_result"
    }
   ],
   "source": [
    "colorplot_path_list"
   ]
  },
  {
   "cell_type": "code",
   "execution_count": null,
   "metadata": {},
   "outputs": [],
   "source": []
  }
 ],
 "metadata": {
  "kernelspec": {
   "display_name": "Python 3",
   "language": "python",
   "name": "python3"
  },
  "language_info": {
   "codemirror_mode": {
    "name": "ipython",
    "version": 3
   },
   "file_extension": ".py",
   "mimetype": "text/x-python",
   "name": "python",
   "nbconvert_exporter": "python",
   "pygments_lexer": "ipython3",
   "version": "3.6.8"
  }
 },
 "nbformat": 4,
 "nbformat_minor": 2
}

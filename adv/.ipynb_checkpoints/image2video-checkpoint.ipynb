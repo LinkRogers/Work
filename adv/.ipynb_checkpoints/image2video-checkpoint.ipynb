{
 "cells": [
  {
   "cell_type": "code",
   "execution_count": 20,
   "metadata": {},
   "outputs": [],
   "source": [
    "import os\n",
    "import imageio\n",
    "import numpy as np\n",
    "from moviepy.editor import *\n",
    "\n",
    "def get_gif_video(im_path):\n",
    "    plot_name = im_path[im_path.find('/')+1:]\n",
    "    files= os.listdir(im_path)\n",
    "    activation_png = [png for png in files if png[-14:]=='activation.png']\n",
    "    activation_png = sorted(activation_png, key = lambda x : int(x[5:x.find('_')]))\n",
    "    activation_png_path = []\n",
    "    for png in activation_png:\n",
    "        activation_png_path.append(os.path.join(im_path,png))\n",
    "        \n",
    "    gif_path = os.path.join(im_path, '..', 'gif')\n",
    "    if not os.path.exists(gif_path):\n",
    "        os.makedirs(gif_path)\n",
    "    outfilename = os.path.join(gif_path, plot_name+'.gif')\n",
    "\n",
    "    frames = []\n",
    "    for png_path in activation_png_path:\n",
    "        im = imageio.imread(png_path)           \n",
    "        im = np.array(im)\n",
    "        frames.append(im)\n",
    "\n",
    "    imageio.mimsave(outfilename, frames, 'GIF', duration=1)    \n",
    "\n",
    "    clip = ImageSequenceClip(activation_png_path, fps = 1)\n",
    "\n",
    "    video_name = plot_name+'.mp4'\n",
    "    video_path = os.path.join(im_path, '..', 'videos')\n",
    "    if not os.path.exists(video_path):\n",
    "        os.makedirs(video_path)\n",
    "    #write to video\n",
    "    clip.write_videofile(os.path.join(video_path, video_name))\n",
    "\n",
    "first_layer = [3,4,5,6,7]\n",
    "second_layer = [3,4,5,6,7]\n",
    "im_path_list = []\n",
    "for i in first_layer:\n",
    "    for j in second_layer:\n",
    "        path = 'iterasive_result/model_'+str(i)+'_'+str(j)+'_2_color_plot'\n",
    "        if os.path.exists(path):\n",
    "            im_path_list.append(path)"
   ]
  },
  {
   "cell_type": "code",
   "execution_count": 21,
   "metadata": {},
   "outputs": [
    {
     "name": "stderr",
     "output_type": "stream",
     "text": [
      "t:   4%|▍         | 6/150 [00:00<00:02, 54.09it/s, now=None]"
     ]
    },
    {
     "name": "stdout",
     "output_type": "stream",
     "text": [
      "Moviepy - Building video iterasive_result/model_3_3_2_color_plot/../videos/model_3_3_2_color_plot.mp4.\n",
      "Moviepy - Writing video iterasive_result/model_3_3_2_color_plot/../videos/model_3_3_2_color_plot.mp4\n",
      "\n"
     ]
    },
    {
     "name": "stderr",
     "output_type": "stream",
     "text": [
      "                                                              \r"
     ]
    },
    {
     "name": "stdout",
     "output_type": "stream",
     "text": [
      "Moviepy - Done !\n",
      "Moviepy - video ready iterasive_result/model_3_3_2_color_plot/../videos/model_3_3_2_color_plot.mp4\n"
     ]
    },
    {
     "name": "stderr",
     "output_type": "stream",
     "text": [
      "t:  12%|█▏        | 6/49 [00:00<00:00, 55.80it/s, now=None]"
     ]
    },
    {
     "name": "stdout",
     "output_type": "stream",
     "text": [
      "Moviepy - Building video iterasive_result/model_5_4_2_color_plot/../videos/model_5_4_2_color_plot.mp4.\n",
      "Moviepy - Writing video iterasive_result/model_5_4_2_color_plot/../videos/model_5_4_2_color_plot.mp4\n",
      "\n"
     ]
    },
    {
     "name": "stderr",
     "output_type": "stream",
     "text": [
      "                                                            \r"
     ]
    },
    {
     "name": "stdout",
     "output_type": "stream",
     "text": [
      "Moviepy - Done !\n",
      "Moviepy - video ready iterasive_result/model_5_4_2_color_plot/../videos/model_5_4_2_color_plot.mp4\n"
     ]
    },
    {
     "name": "stderr",
     "output_type": "stream",
     "text": [
      "t:   6%|▋         | 6/95 [00:00<00:01, 54.85it/s, now=None]"
     ]
    },
    {
     "name": "stdout",
     "output_type": "stream",
     "text": [
      "Moviepy - Building video iterasive_result/model_6_5_2_color_plot/../videos/model_6_5_2_color_plot.mp4.\n",
      "Moviepy - Writing video iterasive_result/model_6_5_2_color_plot/../videos/model_6_5_2_color_plot.mp4\n",
      "\n"
     ]
    },
    {
     "name": "stderr",
     "output_type": "stream",
     "text": [
      "                                                            \r"
     ]
    },
    {
     "name": "stdout",
     "output_type": "stream",
     "text": [
      "Moviepy - Done !\n",
      "Moviepy - video ready iterasive_result/model_6_5_2_color_plot/../videos/model_6_5_2_color_plot.mp4\n"
     ]
    }
   ],
   "source": [
    "if __name__ == '__main__':\n",
    "    for im_path in im_path_list:\n",
    "        get_gif_video(im_path)"
   ]
  },
  {
   "cell_type": "code",
   "execution_count": 23,
   "metadata": {},
   "outputs": [
    {
     "data": {
      "text/html": [
       "<video src=\"iterasive_result/videos/model_6_5_2_color_plot.mp4\" controls  >\n",
       "      Your browser does not support the <code>video</code> element.\n",
       "    </video>"
      ],
      "text/plain": [
       "<IPython.core.display.Video object>"
      ]
     },
     "execution_count": 23,
     "metadata": {},
     "output_type": "execute_result"
    }
   ],
   "source": [
    "from IPython.display import Video\n",
    "\n",
    "video_folder_path = os.path.join('iterasive_result',  'videos')\n",
    "video_path = os.path.join(video_folder_path, 'model_6_5_2_color_plot.mp4')\n",
    "Video(video_path)"
   ]
  },
  {
   "cell_type": "code",
   "execution_count": null,
   "metadata": {},
   "outputs": [],
   "source": []
  }
 ],
 "metadata": {
  "kernelspec": {
   "display_name": "Python 3",
   "language": "python",
   "name": "python3"
  },
  "language_info": {
   "codemirror_mode": {
    "name": "ipython",
    "version": 3
   },
   "file_extension": ".py",
   "mimetype": "text/x-python",
   "name": "python",
   "nbconvert_exporter": "python",
   "pygments_lexer": "ipython3",
   "version": "3.6.8"
  }
 },
 "nbformat": 4,
 "nbformat_minor": 2
}

{
 "cells": [
  {
   "cell_type": "code",
   "execution_count": 18,
   "metadata": {},
   "outputs": [],
   "source": [
    "import activation_plot as aplt\n",
    "from activation_plot import *"
   ]
  },
  {
   "cell_type": "code",
   "execution_count": null,
   "metadata": {},
   "outputs": [],
   "source": [
    "def plot_data(data_root_path):\n",
    "    plot_progress = 0\n",
    "    for file in files:\n",
    "        print('plot progress:{0}%'.format(round((plot_progress * 100 / len(files)))),end='\\r')\n",
    "        plot_progress+=1\n",
    "        activation_data_path = os.path.join(data_root_path,file)\n",
    "        activation_data = np.load(os.path.join(data_path,file),allow_pickle=True)\n",
    "        activations = activation_data['activations']\n",
    "        pred = activation_data['prediction']\n",
    "        data_activation_color = aplt.get_data_color(activations,colors)\n",
    "        plot_path = os.path.join(data_path,'plot')\n",
    "        if not os.path.exists(plot_path):\n",
    "            os.makedirs(plot_path)\n",
    "            \n",
    "        plt.figure(figsize=(10, 10))\n",
    "        plt.scatter(X_test[:, 0], X_test[:, 1], marker='o',s=4, c=data_activation_color)\n",
    "        plt.title(activation_data_path[:-4],fontsize=20)\n",
    "        plt.savefig(plot_path+'/'+file[:-4])\n",
    "        plt.close()"
   ]
  }
 ],
 "metadata": {
  "kernelspec": {
   "display_name": "Python 3",
   "language": "python",
   "name": "python3"
  },
  "language_info": {
   "codemirror_mode": {
    "name": "ipython",
    "version": 3
   },
   "file_extension": ".py",
   "mimetype": "text/x-python",
   "name": "python",
   "nbconvert_exporter": "python",
   "pygments_lexer": "ipython3",
   "version": "3.6.8"
  }
 },
 "nbformat": 4,
 "nbformat_minor": 2
}

{
 "cells": [
  {
   "cell_type": "code",
   "execution_count": 37,
   "metadata": {},
   "outputs": [
    {
     "name": "stdout",
     "output_type": "stream",
     "text": [
      "get progress:90%                    \r"
     ]
    }
   ],
   "source": [
    "import time\n",
    "# print('')\n",
    "# print('start',end='')\n",
    "# time.sleep(0.5)\n",
    "\n",
    "for x in range(10):\n",
    "    print(\"get activation progress:{0}%\".format(round((x) * 100 / 10)), end='10\\r')\n",
    "    time.sleep(0.5)\n",
    "\n",
    "print('                                    ',end='\\r')\n",
    "for x in range(10):\n",
    "    print(\"get progress:{0}%\".format(round((x) * 100 / 10)),end='\\r')\n",
    "    time.sleep(0.5)"
   ]
  },
  {
   "cell_type": "code",
   "execution_count": null,
   "metadata": {},
   "outputs": [],
   "source": []
  }
 ],
 "metadata": {
  "kernelspec": {
   "display_name": "Python 3",
   "language": "python",
   "name": "python3"
  },
  "language_info": {
   "codemirror_mode": {
    "name": "ipython",
    "version": 3
   },
   "file_extension": ".py",
   "mimetype": "text/x-python",
   "name": "python",
   "nbconvert_exporter": "python",
   "pygments_lexer": "ipython3",
   "version": "3.6.8"
  }
 },
 "nbformat": 4,
 "nbformat_minor": 2
}

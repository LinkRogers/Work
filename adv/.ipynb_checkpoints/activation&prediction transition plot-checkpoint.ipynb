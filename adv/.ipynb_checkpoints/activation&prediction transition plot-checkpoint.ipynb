{
 "cells": [
  {
   "cell_type": "markdown",
   "metadata": {},
   "source": [
    "# Prepare Data"
   ]
  },
  {
   "cell_type": "code",
   "execution_count": 1,
   "metadata": {},
   "outputs": [],
   "source": [
    "import time\n",
    "import numpy as np\n",
    "import tensorflow as tf\n",
    "import matplotlib.pyplot as plt\n",
    "%matplotlib inline\n",
    "\n",
    "N=40000\n",
    "L=3\n",
    "X = L*np.random.rand(N,2) \n",
    "X[:,0] = X[:,0]-L/2\n",
    "X[:,1] = X[:,1]-L/2\n",
    "\n",
    "Y = np.zeros([N,2])\n",
    "\n",
    "for i in range(N):\n",
    "    if (X[i,0]-0.7)**2+(X[i,1]+0.6)**2<0.49:\n",
    "        Y[i,0]=1\n",
    "    else:\n",
    "        Y[i,1]=1\n",
    "\n",
    "zero_class = np.where(Y[:, 0])\n",
    "one_class = np.where(Y[:, 1])\n",
    "\n",
    "plt.figure(figsize=(8, 8))\n",
    "plt.scatter(X[zero_class, 0], X[zero_class, 1], s=1, facecolors='b', linewidths=1, label='Class 1')\n",
    "plt.scatter(X[one_class, 0], X[one_class, 1], s=1, facecolors='r', linewidths=1, label='Class 2')\n",
    "plt.show()\n",
    "\n",
    "data = X\n",
    "labels = Y"
   ]
  },
  {
   "cell_type": "code",
   "execution_count": null,
   "metadata": {
    "collapsed": true
   },
   "outputs": [
    {
     "name": "stdout",
     "output_type": "stream",
     "text": [
      "hid_layer: [2]\n",
      "progress : 0.0\n"
     ]
    },
    {
     "name": "stderr",
     "output_type": "stream",
     "text": [
      "WARNING: Logging before flag parsing goes to stderr.\n",
      "W0822 16:22:09.873441 139633169639232 deprecation.py:323] From /usr/local/lib/python3.6/dist-packages/tensorflow/python/ops/math_grad.py:1250: add_dispatch_support.<locals>.wrapper (from tensorflow.python.ops.array_ops) is deprecated and will be removed in a future version.\n",
      "Instructions for updating:\n",
      "Use tf.where in 2.0, which has the same broadcast rule as np.where\n"
     ]
    },
    {
     "name": "stdout",
     "output_type": "stream",
     "text": [
      "epoch 1: {'loss': [0.6590708494186401], 'categorical_accuracy': [0.6623]}\n",
      "epoch 2: {'loss': [0.6574656367301941], 'categorical_accuracy': [0.6653875]}\n",
      "epoch 3: {'loss': [0.6547951300938925], 'categorical_accuracy': [0.6709667]}\n",
      "epoch 4: {'loss': [0.6510689705610275], 'categorical_accuracy': [0.67829376]}\n",
      "epoch 5: {'loss': [0.6463004350662231], 'categorical_accuracy': [0.82765]}\n",
      "epoch 6: {'loss': [0.640510231256485], 'categorical_accuracy': [0.82765]}\n",
      "epoch 7: {'loss': [0.6337234718458993], 'categorical_accuracy': [0.82765]}\n",
      "epoch 8: {'loss': [0.6259733736515045], 'categorical_accuracy': [0.82765]}\n",
      "epoch 9: {'loss': [0.6172984904713101], 'categorical_accuracy': [0.82765]}\n",
      "epoch 10: {'loss': [0.6077441394329071], 'categorical_accuracy': [0.82765]}\n",
      "epoch 11: {'loss': [0.5973667610775341], 'categorical_accuracy': [0.82765]}\n",
      "epoch 12: {'loss': [0.5862368742624918], 'categorical_accuracy': [0.82765]}\n",
      "epoch 13: {'loss': [0.5744271691028888], 'categorical_accuracy': [0.82765]}\n",
      "epoch 14: {'loss': [0.561996694122042], 'categorical_accuracy': [0.82765]}\n",
      "epoch 15: {'loss': [0.5490138530731201], 'categorical_accuracy': [0.82765]}\n",
      "epoch 16: {'loss': [0.5355490855872631], 'categorical_accuracy': [0.82765]}\n",
      "epoch 17: {'loss': [0.5216937555986292], 'categorical_accuracy': [0.82765]}\n",
      "epoch 18: {'loss': [0.5075463884406619], 'categorical_accuracy': [0.82765]}\n",
      "epoch 19: {'loss': [0.4932140284462979], 'categorical_accuracy': [0.82765]}\n",
      "epoch 20: {'loss': [0.4788284540176392], 'categorical_accuracy': [0.82765]}\n",
      "epoch 21: {'loss': [0.46456779610543025], 'categorical_accuracy': [0.82765]}\n",
      "epoch 22: {'loss': [0.45069022341208026], 'categorical_accuracy': [0.82765]}\n",
      "epoch 23: {'loss': [0.43745124080906744], 'categorical_accuracy': [0.82765]}\n",
      "epoch 24: {'loss': [0.42507315054535866], 'categorical_accuracy': [0.82765]}\n",
      "epoch 25: {'loss': [0.41378465175628665], 'categorical_accuracy': [0.82765]}\n",
      "epoch 26: {'loss': [0.4037313266442372], 'categorical_accuracy': [0.82765]}\n",
      "epoch 27: {'loss': [0.39483493787271007], 'categorical_accuracy': [0.82765]}\n",
      "epoch 28: {'loss': [0.3868630400725773], 'categorical_accuracy': [0.82765]}\n",
      "epoch 29: {'loss': [0.3796057043404415], 'categorical_accuracy': [0.82765]}\n",
      "epoch 30: {'loss': [0.37290731966495516], 'categorical_accuracy': [0.82765]}\n",
      "epoch 31: {'loss': [0.3666427173922139], 'categorical_accuracy': [0.82765]}\n",
      "epoch 32: {'loss': [0.36070716101676226], 'categorical_accuracy': [0.82765]}\n",
      "epoch 33: {'loss': [0.35501369382395886], 'categorical_accuracy': [0.82765]}\n",
      "epoch 34: {'loss': [0.34949229745303884], 'categorical_accuracy': [0.82765]}\n",
      "epoch 35: {'loss': [0.3440682785851615], 'categorical_accuracy': [0.82765]}\n",
      "epoch 36: {'loss': [0.3386845977769958], 'categorical_accuracy': [0.82765]}\n",
      "epoch 37: {'loss': [0.33328299345196905], 'categorical_accuracy': [0.82765]}\n",
      "epoch 38: {'loss': [0.32782367812959773], 'categorical_accuracy': [0.82765]}\n",
      "epoch 39: {'loss': [0.3222821263166574], 'categorical_accuracy': [0.82765]}\n",
      "epoch 40: {'loss': [0.3164531223475933], 'categorical_accuracy': [0.82765]}\n",
      "epoch 41: {'loss': [0.309454355298019], 'categorical_accuracy': [0.82765]}\n",
      "epoch 42: {'loss': [0.30305335848104387], 'categorical_accuracy': [0.82765]}\n",
      "epoch 43: {'loss': [0.2974048839058987], 'categorical_accuracy': [0.82765]}\n",
      "epoch 44: {'loss': [0.2918838960203258], 'categorical_accuracy': [0.82765]}\n",
      "epoch 45: {'loss': [0.28628242015838623], 'categorical_accuracy': [0.82765]}\n",
      "epoch 46: {'loss': [0.28060248234997626], 'categorical_accuracy': [0.82765]}\n",
      "epoch 47: {'loss': [0.27486281826141035], 'categorical_accuracy': [0.82765]}\n",
      "epoch 48: {'loss': [0.26913446250061196], 'categorical_accuracy': [0.82765]}\n",
      "epoch 49: {'loss': [0.26344016802554227], 'categorical_accuracy': [0.82765]}\n",
      "epoch 50: {'loss': [0.2578168660402298], 'categorical_accuracy': [0.82765]}\n",
      "epoch 51: {'loss': [0.25228619166449007], 'categorical_accuracy': [0.82765]}\n",
      "epoch 52: {'loss': [0.24687416622271904], 'categorical_accuracy': [0.82765]}\n",
      "epoch 53: {'loss': [0.24162029742069965], 'categorical_accuracy': [0.82765]}\n",
      "epoch 54: {'loss': [0.23657396325358637], 'categorical_accuracy': [0.82765]}\n",
      "epoch 55: {'loss': [0.23173128772865642], 'categorical_accuracy': [0.8704227]}\n",
      "epoch 56: {'loss': [0.22710142258022512], 'categorical_accuracy': [0.8761817]}\n",
      "epoch 57: {'loss': [0.22270583557455162], 'categorical_accuracy': [0.87966007]}\n",
      "epoch 58: {'loss': [0.21855443998657423], 'categorical_accuracy': [0.8828065]}\n",
      "epoch 59: {'loss': [0.2146376879033396], 'categorical_accuracy': [0.8860843]}\n",
      "epoch 60: {'loss': [0.21095271383722622], 'categorical_accuracy': [0.888865]}\n",
      "epoch 61: {'loss': [0.20751144944644365], 'categorical_accuracy': [0.8913451]}\n",
      "epoch 62: {'loss': [0.20430200787321215], 'categorical_accuracy': [0.89345]}\n",
      "epoch 63: {'loss': [0.20132022291894944], 'categorical_accuracy': [0.8959992]}\n",
      "epoch 64: {'loss': [0.19855794496834278], 'categorical_accuracy': [0.898175]}\n",
      "epoch 65: {'loss': [0.19600452620249528], 'categorical_accuracy': [0.9000054]}\n",
      "epoch 66: {'loss': [0.19365062722654053], 'categorical_accuracy': [0.9017182]}\n",
      "epoch 67: {'loss': [0.1914867427366883], 'categorical_accuracy': [0.9030175]}\n"
     ]
    }
   ],
   "source": [
    "import os\n",
    "import activation_plot as aplt\n",
    "\n",
    "first_layer = [2,3,4,5,6,7,8,9,10,20,30,60,90,180]\n",
    "#second_layer = [30,60,90]\n",
    "\n",
    "num_epoch = 100\n",
    "X_test = aplt.data_grid(grid=200,square_len=2)\n",
    "colors = aplt.get_color(X_test)\n",
    "\n",
    "for i in range(len(first_layer)):\n",
    "#     for j in range(len(second_layer)):\n",
    "#         print('hid_layer: [%i , %i]'%(first_layer[i],second_layer[j]))\n",
    "#         print('progress :', (i+j)/(len(first_layer)+len(second_layer)))\n",
    "#         hid_layer_units = [first_layer[i], second_layer[j]]\n",
    "    print('hid_layer: [%i]'%(first_layer[i]))\n",
    "    print('progress :', i/(len(first_layer)))\n",
    "    hid_layer_units = [first_layer[i]]\n",
    "    model = aplt.prepare_model(hid_layer_units,n_category = len(labels[0]))\n",
    "\n",
    "    net_name = '_'.join(str(e) for e in hid_layer_units)+'_2'\n",
    "    model_name = 'model_'+net_name\n",
    "    result_dir = 'iterasive_result/'+model_name\n",
    "    if not os.path.exists(result_dir):\n",
    "        os.makedirs(result_dir)\n",
    "    model_data_labels = [model, data, labels]\n",
    "    aplt.get_activation_prediction_transition(result_dir,num_epoch,X_test,model_data_labels)"
   ]
  },
  {
   "cell_type": "markdown",
   "metadata": {},
   "source": [
    "# visualize activation"
   ]
  },
  {
   "cell_type": "code",
   "execution_count": null,
   "metadata": {},
   "outputs": [
    {
     "name": "stdout",
     "output_type": "stream",
     "text": [
      "Process iterasive_result/model_10_2\n",
      "plot progress:3%\r"
     ]
    }
   ],
   "source": [
    "import activation_plot as aplt\n",
    "import os\n",
    "X_test = aplt.data_grid(grid=200,square_len=2)\n",
    "colors = aplt.get_color(X_test)\n",
    "\n",
    "if __name__ == '__main__':\n",
    "    first_layer = [10,20,30,60,90,180]\n",
    "    data_path_list = []\n",
    "    for i in first_layer:\n",
    "        path = 'iterasive_result/model_'+str(i)+'_2'\n",
    "        if os.path.exists(path):\n",
    "            data_path_list.append(path)\n",
    "    for data_path in data_path_list:\n",
    "        aplt.plot_data(data_path,X_test,colors)"
   ]
  },
  {
   "cell_type": "code",
   "execution_count": null,
   "metadata": {},
   "outputs": [],
   "source": []
  }
 ],
 "metadata": {
  "kernelspec": {
   "display_name": "Python 3",
   "language": "python",
   "name": "python3"
  },
  "language_info": {
   "codemirror_mode": {
    "name": "ipython",
    "version": 3
   },
   "file_extension": ".py",
   "mimetype": "text/x-python",
   "name": "python",
   "nbconvert_exporter": "python",
   "pygments_lexer": "ipython3",
   "version": "3.6.8"
  }
 },
 "nbformat": 4,
 "nbformat_minor": 2
}

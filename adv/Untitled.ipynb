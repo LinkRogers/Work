{
 "cells": [
  {
   "cell_type": "code",
   "execution_count": 20,
   "metadata": {},
   "outputs": [
    {
     "name": "stdout",
     "output_type": "stream",
     "text": [
      "epoch:9 get activation progress:90%\r"
     ]
    }
   ],
   "source": [
    "import time\n",
    "def print_line(x):\n",
    "    print(x, end='\\r')\n",
    "    \n",
    "for i in range(10):\n",
    "    epoch_info_line = \"epoch:{0} \".format(i)\n",
    "    #print_line(epoch_info_line)\n",
    "    #time.sleep(0.3)\n",
    "    \n",
    "    for j in range(10):\n",
    "        act_info_line = epoch_info_line\n",
    "        act_info_line += \"get activation progress:{0}%\".format(round((j) * 100 / 10))\n",
    "        print_line(act_info_line)\n",
    "        time.sleep(0.3)"
   ]
  },
  {
   "cell_type": "code",
   "execution_count": 3,
   "metadata": {},
   "outputs": [],
   "source": [
    "import numpy as np\n",
    "import tensorflow as tf\n",
    "import matplotlib.pyplot as plt\n",
    "\n",
    "from tensorflow.keras import layers\n",
    "from tensorflow.keras.models import Sequential\n",
    "from tensorflow.keras.layers import Dense, Activation, Input\n",
    "from tensorflow.keras.callbacks import TensorBoard\n",
    "\n",
    "model = tf.keras.Sequential()\n",
    "model.add(Dense(5, input_shape=(2,), activation='relu',bias_initializer='random_uniform'))\n",
    "model.add(Dense(5, activation='relu',bias_initializer='random_uniform'))\n",
    "model.add(Dense(2, activation='softmax',bias_initializer='random_uniform'))\n",
    "    # Configure a model for categorical classification.\n",
    "model.compile(optimizer=tf.keras.optimizers.Adam(),\n",
    "                  loss=tf.keras.losses.categorical_crossentropy,\n",
    "                  metrics=[tf.keras.metrics.categorical_accuracy])"
   ]
  },
  {
   "cell_type": "code",
   "execution_count": 4,
   "metadata": {},
   "outputs": [],
   "source": [
    "#Prepare data\n",
    "N=40000\n",
    "L=3\n",
    "X = L*np.random.rand(N,2) \n",
    "X[:,0] = X[:,0]-L/2\n",
    "X[:,1] = X[:,1]-L/2\n",
    "\n",
    "Y = np.zeros([N,2])\n",
    "\n",
    "for i in range(N):\n",
    "    if (X[i,0])**2+(X[i,1])**2<0.64:\n",
    "        Y[i,0]=1\n",
    "    else:\n",
    "        Y[i,1]=1\n",
    "\n",
    "zero_class = np.where(Y[:, 0])\n",
    "one_class = np.where(Y[:, 1])\n",
    "\n",
    "# plt.figure(figsize=(8, 8))\n",
    "# plt.scatter(X[zero_class, 0], X[zero_class, 1], s=1, facecolors='b', linewidths=1, label='Class 1')\n",
    "# plt.scatter(X[one_class, 0], X[one_class, 1], s=1, facecolors='r', linewidths=1, label='Class 2')\n",
    "# plt.show()\n",
    "\n",
    "data = X\n",
    "labels = Y"
   ]
  },
  {
   "cell_type": "code",
   "execution_count": 6,
   "metadata": {
    "scrolled": true
   },
   "outputs": [
    {
     "name": "stderr",
     "output_type": "stream",
     "text": [
      "WARNING: Logging before flag parsing goes to stderr.\n",
      "W0819 11:09:01.209949 139879448594240 deprecation.py:323] From /usr/local/lib/python3.6/dist-packages/tensorflow/python/ops/math_grad.py:1250: add_dispatch_support.<locals>.wrapper (from tensorflow.python.ops.array_ops) is deprecated and will be removed in a future version.\n",
      "Instructions for updating:\n",
      "Use tf.where in 2.0, which has the same broadcast rule as np.where\n"
     ]
    },
    {
     "name": "stdout",
     "output_type": "stream",
     "text": [
      "Train on 10 samples\n",
      "10/10 [==============================] - 0s 26ms/step - loss: 0.5967 - categorical_accuracy: 0.7259\n"
     ]
    }
   ],
   "source": [
    "history=model.fit(data, labels, epochs=1,steps_per_epoch=10,batch_size=int(N/800))\n"
   ]
  },
  {
   "cell_type": "code",
   "execution_count": 26,
   "metadata": {},
   "outputs": [
    {
     "name": "stdout",
     "output_type": "stream",
     "text": [
      "                                                                      \r"
     ]
    }
   ],
   "source": [
    "print(str(history.history),end='\\r')\n",
    "time.sleep(0.5)\n",
    "print(' '*80, end='\\r')"
   ]
  },
  {
   "cell_type": "code",
   "execution_count": null,
   "metadata": {},
   "outputs": [],
   "source": []
  }
 ],
 "metadata": {
  "kernelspec": {
   "display_name": "Python 3",
   "language": "python",
   "name": "python3"
  },
  "language_info": {
   "codemirror_mode": {
    "name": "ipython",
    "version": 3
   },
   "file_extension": ".py",
   "mimetype": "text/x-python",
   "name": "python",
   "nbconvert_exporter": "python",
   "pygments_lexer": "ipython3",
   "version": "3.6.8"
  }
 },
 "nbformat": 4,
 "nbformat_minor": 2
}

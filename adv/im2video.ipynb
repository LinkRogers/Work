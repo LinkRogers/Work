{
 "cells": [
  {
   "cell_type": "code",
   "execution_count": 2,
   "metadata": {},
   "outputs": [],
   "source": [
    "import os\n",
    "import imageio\n",
    "import numpy as np\n",
    "from moviepy.editor import *\n",
    "\n",
    "def get_video(im_path_list):\n",
    "    im_folder,im_name = os.path.split(im_path_list[0])\n",
    "    model_result_root, plot_name = os.path.split(im_folder)\n",
    "    result_root, model_name = os.path.split(model_result_root)\n",
    "    \n",
    "    clip = ImageSequenceClip(im_path_list, fps = 1)\n",
    "    video_name = model_name+'_'+plot_name+'.mp4'\n",
    "    video_path = os.path.join(result_root, 'videos')\n",
    "    if not os.path.exists(video_path):\n",
    "        os.makedirs(video_path)\n",
    "    #write to video\n",
    "    clip.write_videofile(os.path.join(video_path, video_name))\n",
    "\n",
    "def get_image_path_list(result_path):\n",
    "    act_plot_path = os.path.join(result_path,'activation_plot')\n",
    "    pred_plot_path = os.path.join(result_path,'prediction_plot')\n",
    "    act_files= os.listdir(act_plot_path)\n",
    "    pred_files= os.listdir(pred_plot_path)\n",
    "    \n",
    "    activation_png_list = [png for png in act_files if 'activation' in png]\n",
    "    activation_png_list = sorted(activation_png_list, key = lambda x : int(x[x.find('h')+1:x.find('.')]))\n",
    "    activation_png_list = [os.path.join(act_plot_path,png) for png in activation_png_list]\n",
    "    \n",
    "    prediction_png_list = [png for png in pred_files if 'prediction' in png]\n",
    "    prediction_png_list = sorted(prediction_png_list, key = lambda x : int(x[x.find('h')+1:x.find('.')]))\n",
    "    prediction_png_list = [os.path.join(pred_plot_path,png) for png in prediction_png_list]\n",
    "    \n",
    "    if activation_png_list==[] or prediction_png_list==[]:\n",
    "        print('empty list!')\n",
    "    else:\n",
    "        return activation_png_list,prediction_png_list"
   ]
  },
  {
   "cell_type": "markdown",
   "metadata": {},
   "source": [
    "# Single layer"
   ]
  },
  {
   "cell_type": "code",
   "execution_count": 37,
   "metadata": {
    "collapsed": true
   },
   "outputs": [
    {
     "name": "stderr",
     "output_type": "stream",
     "text": [
      "t:  10%|█         | 10/100 [2:23:20<00:01, 52.20it/s, now=None]\n",
      "t:   0%|          | 0/100 [00:00<?, ?it/s, now=None]\u001b[A\n",
      "t:   5%|▌         | 5/100 [00:00<00:02, 40.41it/s, now=None]\u001b[A"
     ]
    },
    {
     "name": "stdout",
     "output_type": "stream",
     "text": [
      "Moviepy - Building video iterasive_result/videos/model_7_2_activation_plot.mp4.\n",
      "Moviepy - Writing video iterasive_result/videos/model_7_2_activation_plot.mp4\n",
      "\n"
     ]
    },
    {
     "name": "stderr",
     "output_type": "stream",
     "text": [
      "\n",
      "t:   9%|▉         | 9/100 [00:00<00:02, 38.87it/s, now=None]\u001b[A\n",
      "t:  14%|█▍        | 14/100 [00:00<00:02, 40.19it/s, now=None]\u001b[A\n",
      "t:  19%|█▉        | 19/100 [00:00<00:01, 41.16it/s, now=None]\u001b[A\n",
      "t:  24%|██▍       | 24/100 [00:00<00:01, 41.81it/s, now=None]\u001b[A\n",
      "t:  29%|██▉       | 29/100 [00:00<00:01, 42.22it/s, now=None]\u001b[A\n",
      "t:  34%|███▍      | 34/100 [00:00<00:01, 42.47it/s, now=None]\u001b[A\n",
      "t:  39%|███▉      | 39/100 [00:00<00:01, 42.81it/s, now=None]\u001b[A\n",
      "t:  44%|████▍     | 44/100 [00:01<00:01, 42.98it/s, now=None]\u001b[A\n",
      "t:  49%|████▉     | 49/100 [00:01<00:01, 42.97it/s, now=None]\u001b[A\n",
      "t:  54%|█████▍    | 54/100 [00:01<00:01, 42.29it/s, now=None]\u001b[A\n",
      "t:  59%|█████▉    | 59/100 [00:01<00:00, 42.08it/s, now=None]\u001b[A\n",
      "t:  64%|██████▍   | 64/100 [00:01<00:00, 36.89it/s, now=None]\u001b[A\n",
      "t:  69%|██████▉   | 69/100 [00:01<00:00, 38.08it/s, now=None]\u001b[A\n",
      "t:  74%|███████▍  | 74/100 [00:01<00:00, 38.86it/s, now=None]\u001b[A\n",
      "t:  79%|███████▉  | 79/100 [00:01<00:00, 39.37it/s, now=None]\u001b[A\n",
      "t:  84%|████████▍ | 84/100 [00:02<00:00, 40.07it/s, now=None]\u001b[A\n",
      "t:  89%|████████▉ | 89/100 [00:02<00:00, 40.31it/s, now=None]\u001b[A\n",
      "t:  94%|█████████▍| 94/100 [00:02<00:00, 40.49it/s, now=None]\u001b[A\n",
      "t:  99%|█████████▉| 99/100 [00:02<00:00, 40.66it/s, now=None]\u001b[A\n",
      "t:  10%|█         | 10/100 [2:23:22<00:01, 52.20it/s, now=None]A"
     ]
    },
    {
     "name": "stdout",
     "output_type": "stream",
     "text": [
      "Moviepy - Done !\n",
      "Moviepy - video ready iterasive_result/videos/model_7_2_activation_plot.mp4\n"
     ]
    },
    {
     "name": "stderr",
     "output_type": "stream",
     "text": [
      "t:  10%|█         | 10/100 [2:23:23<00:01, 52.20it/s, now=None]\n",
      "t:   0%|          | 0/100 [00:00<?, ?it/s, now=None]\u001b[A\n",
      "t:   5%|▌         | 5/100 [00:00<00:02, 43.35it/s, now=None]\u001b[A"
     ]
    },
    {
     "name": "stdout",
     "output_type": "stream",
     "text": [
      "Moviepy - Building video iterasive_result/videos/model_7_2_prediction_plot.mp4.\n",
      "Moviepy - Writing video iterasive_result/videos/model_7_2_prediction_plot.mp4\n",
      "\n"
     ]
    },
    {
     "name": "stderr",
     "output_type": "stream",
     "text": [
      "\n",
      "t:   9%|▉         | 9/100 [00:00<00:02, 41.76it/s, now=None]\u001b[A\n",
      "t:  15%|█▌        | 15/100 [00:00<00:01, 44.48it/s, now=None]\u001b[A\n",
      "t:  21%|██        | 21/100 [00:00<00:01, 46.45it/s, now=None]\u001b[A\n",
      "t:  27%|██▋       | 27/100 [00:00<00:01, 48.01it/s, now=None]\u001b[A\n",
      "t:  33%|███▎      | 33/100 [00:00<00:01, 48.84it/s, now=None]\u001b[A\n",
      "t:  39%|███▉      | 39/100 [00:00<00:01, 49.88it/s, now=None]\u001b[A\n",
      "t:  45%|████▌     | 45/100 [00:00<00:01, 50.39it/s, now=None]\u001b[A\n",
      "t:  50%|█████     | 50/100 [00:01<00:00, 50.01it/s, now=None]\u001b[A\n",
      "t:  55%|█████▌    | 55/100 [00:01<00:00, 49.16it/s, now=None]\u001b[A\n",
      "t:  60%|██████    | 60/100 [00:01<00:00, 48.65it/s, now=None]\u001b[A\n",
      "t:  65%|██████▌   | 65/100 [00:01<00:00, 47.68it/s, now=None]\u001b[A\n",
      "t:  70%|███████   | 70/100 [00:01<00:00, 47.68it/s, now=None]\u001b[A\n",
      "t:  75%|███████▌  | 75/100 [00:01<00:00, 41.77it/s, now=None]\u001b[A\n",
      "t:  80%|████████  | 80/100 [00:01<00:00, 38.75it/s, now=None]\u001b[A\n",
      "t:  85%|████████▌ | 85/100 [00:01<00:00, 40.93it/s, now=None]\u001b[A\n",
      "t:  90%|█████████ | 90/100 [00:02<00:00, 38.20it/s, now=None]\u001b[A\n",
      "t:  95%|█████████▌| 95/100 [00:02<00:00, 40.50it/s, now=None]\u001b[A\n",
      "t: 100%|██████████| 100/100 [00:02<00:00, 41.81it/s, now=None]\u001b[A\n",
      "t:  10%|█         | 10/100 [2:23:26<00:01, 52.20it/s, now=None][A"
     ]
    },
    {
     "name": "stdout",
     "output_type": "stream",
     "text": [
      "Moviepy - Done !\n",
      "Moviepy - video ready iterasive_result/videos/model_7_2_prediction_plot.mp4\n"
     ]
    },
    {
     "name": "stderr",
     "output_type": "stream",
     "text": [
      "t:  10%|█         | 10/100 [2:23:27<00:01, 52.20it/s, now=None]\n",
      "t:   0%|          | 0/100 [00:00<?, ?it/s, now=None]\u001b[A\n",
      "t:   6%|▌         | 6/100 [00:00<00:01, 49.08it/s, now=None]\u001b[A"
     ]
    },
    {
     "name": "stdout",
     "output_type": "stream",
     "text": [
      "Moviepy - Building video iterasive_result/videos/model_8_2_activation_plot.mp4.\n",
      "Moviepy - Writing video iterasive_result/videos/model_8_2_activation_plot.mp4\n",
      "\n"
     ]
    },
    {
     "name": "stderr",
     "output_type": "stream",
     "text": [
      "\n",
      "t:  11%|█         | 11/100 [00:00<00:01, 47.46it/s, now=None]\u001b[A\n",
      "t:  15%|█▌        | 15/100 [00:00<00:01, 42.93it/s, now=None]\u001b[A\n",
      "t:  20%|██        | 20/100 [00:00<00:01, 42.92it/s, now=None]\u001b[A\n",
      "t:  25%|██▌       | 25/100 [00:00<00:01, 43.10it/s, now=None]\u001b[A\n",
      "t:  30%|███       | 30/100 [00:00<00:01, 43.22it/s, now=None]\u001b[A\n",
      "t:  35%|███▌      | 35/100 [00:00<00:01, 43.33it/s, now=None]\u001b[A\n",
      "t:  40%|████      | 40/100 [00:00<00:01, 44.09it/s, now=None]\u001b[A\n",
      "t:  45%|████▌     | 45/100 [00:01<00:01, 38.93it/s, now=None]\u001b[A\n",
      "t:  50%|█████     | 50/100 [00:01<00:01, 39.62it/s, now=None]\u001b[A\n",
      "t:  55%|█████▌    | 55/100 [00:01<00:01, 39.92it/s, now=None]\u001b[A\n",
      "t:  59%|█████▉    | 59/100 [00:01<00:01, 39.91it/s, now=None]\u001b[A\n",
      "t:  63%|██████▎   | 63/100 [00:01<00:00, 39.73it/s, now=None]\u001b[A\n",
      "t:  68%|██████▊   | 68/100 [00:01<00:00, 40.04it/s, now=None]\u001b[A\n",
      "t:  72%|███████▏  | 72/100 [00:01<00:00, 39.95it/s, now=None]\u001b[A\n",
      "t:  76%|███████▌  | 76/100 [00:01<00:00, 39.76it/s, now=None]\u001b[A\n",
      "t:  81%|████████  | 81/100 [00:01<00:00, 40.00it/s, now=None]\u001b[A\n",
      "t:  86%|████████▌ | 86/100 [00:02<00:00, 40.27it/s, now=None]\u001b[A\n",
      "t:  91%|█████████ | 91/100 [00:02<00:00, 39.38it/s, now=None]\u001b[A\n",
      "t:  95%|█████████▌| 95/100 [00:02<00:00, 39.33it/s, now=None]\u001b[A\n",
      "t: 100%|██████████| 100/100 [00:02<00:00, 39.67it/s, now=None]\u001b[A\n",
      "t:  10%|█         | 10/100 [2:23:30<00:01, 52.20it/s, now=None][A"
     ]
    },
    {
     "name": "stdout",
     "output_type": "stream",
     "text": [
      "Moviepy - Done !\n",
      "Moviepy - video ready iterasive_result/videos/model_8_2_activation_plot.mp4\n"
     ]
    },
    {
     "name": "stderr",
     "output_type": "stream",
     "text": [
      "t:  10%|█         | 10/100 [2:23:31<00:01, 52.20it/s, now=None]\n",
      "t:   0%|          | 0/100 [00:00<?, ?it/s, now=None]\u001b[A\n",
      "t:   5%|▌         | 5/100 [00:00<00:02, 41.36it/s, now=None]\u001b[A"
     ]
    },
    {
     "name": "stdout",
     "output_type": "stream",
     "text": [
      "Moviepy - Building video iterasive_result/videos/model_8_2_prediction_plot.mp4.\n",
      "Moviepy - Writing video iterasive_result/videos/model_8_2_prediction_plot.mp4\n",
      "\n"
     ]
    },
    {
     "name": "stderr",
     "output_type": "stream",
     "text": [
      "\n",
      "t:   9%|▉         | 9/100 [00:00<00:02, 40.16it/s, now=None]\u001b[A\n",
      "t:  14%|█▍        | 14/100 [00:00<00:02, 42.54it/s, now=None]\u001b[A\n",
      "t:  20%|██        | 20/100 [00:00<00:01, 44.73it/s, now=None]\u001b[A\n",
      "t:  26%|██▌       | 26/100 [00:00<00:01, 46.50it/s, now=None]\u001b[A\n",
      "t:  32%|███▏      | 32/100 [00:00<00:01, 47.59it/s, now=None]\u001b[A\n",
      "t:  37%|███▋      | 37/100 [00:00<00:01, 48.06it/s, now=None]\u001b[A\n",
      "t:  42%|████▏     | 42/100 [00:00<00:01, 48.43it/s, now=None]\u001b[A\n",
      "t:  47%|████▋     | 47/100 [00:00<00:01, 48.51it/s, now=None]\u001b[A\n",
      "t:  52%|█████▏    | 52/100 [00:01<00:00, 48.34it/s, now=None]\u001b[A\n",
      "t:  57%|█████▋    | 57/100 [00:01<00:00, 48.34it/s, now=None]\u001b[A\n",
      "t:  62%|██████▏   | 62/100 [00:01<00:00, 48.26it/s, now=None]\u001b[A\n",
      "t:  67%|██████▋   | 67/100 [00:01<00:00, 48.22it/s, now=None]\u001b[A\n",
      "t:  72%|███████▏  | 72/100 [00:01<00:00, 48.21it/s, now=None]\u001b[A\n",
      "t:  77%|███████▋  | 77/100 [00:01<00:00, 48.48it/s, now=None]\u001b[A\n",
      "t:  82%|████████▏ | 82/100 [00:01<00:00, 48.75it/s, now=None]\u001b[A\n",
      "t:  87%|████████▋ | 87/100 [00:01<00:00, 48.99it/s, now=None]\u001b[A\n",
      "t:  92%|█████████▏| 92/100 [00:01<00:00, 49.20it/s, now=None]\u001b[A\n",
      "t:  97%|█████████▋| 97/100 [00:02<00:00, 49.37it/s, now=None]\u001b[A\n",
      "t:  10%|█         | 10/100 [2:23:33<00:01, 52.20it/s, now=None]A"
     ]
    },
    {
     "name": "stdout",
     "output_type": "stream",
     "text": [
      "Moviepy - Done !\n",
      "Moviepy - video ready iterasive_result/videos/model_8_2_prediction_plot.mp4\n"
     ]
    },
    {
     "name": "stderr",
     "output_type": "stream",
     "text": [
      "t:  10%|█         | 10/100 [2:23:35<00:01, 52.20it/s, now=None]\n",
      "t:   0%|          | 0/100 [00:00<?, ?it/s, now=None]\u001b[A\n",
      "t:   5%|▌         | 5/100 [00:00<00:02, 39.47it/s, now=None]\u001b[A"
     ]
    },
    {
     "name": "stdout",
     "output_type": "stream",
     "text": [
      "Moviepy - Building video iterasive_result/videos/model_9_2_activation_plot.mp4.\n",
      "Moviepy - Writing video iterasive_result/videos/model_9_2_activation_plot.mp4\n",
      "\n"
     ]
    },
    {
     "name": "stderr",
     "output_type": "stream",
     "text": [
      "\n",
      "t:   9%|▉         | 9/100 [00:00<00:02, 38.81it/s, now=None]\u001b[A\n",
      "t:  14%|█▍        | 14/100 [00:00<00:02, 40.53it/s, now=None]\u001b[A\n",
      "t:  19%|█▉        | 19/100 [00:00<00:01, 41.75it/s, now=None]\u001b[A\n",
      "t:  24%|██▍       | 24/100 [00:00<00:01, 42.73it/s, now=None]\u001b[A\n",
      "t:  29%|██▉       | 29/100 [00:00<00:01, 43.27it/s, now=None]\u001b[A\n",
      "t:  34%|███▍      | 34/100 [00:00<00:01, 43.70it/s, now=None]\u001b[A\n",
      "t:  39%|███▉      | 39/100 [00:00<00:01, 44.06it/s, now=None]\u001b[A\n",
      "t:  44%|████▍     | 44/100 [00:01<00:01, 43.87it/s, now=None]\u001b[A\n",
      "t:  49%|████▉     | 49/100 [00:01<00:01, 36.58it/s, now=None]\u001b[A\n",
      "t:  53%|█████▎    | 53/100 [00:01<00:01, 35.21it/s, now=None]\u001b[A\n",
      "t:  57%|█████▋    | 57/100 [00:01<00:01, 30.27it/s, now=None]\u001b[A\n",
      "t:  61%|██████    | 61/100 [00:01<00:01, 28.33it/s, now=None]\u001b[A\n",
      "t:  64%|██████▍   | 64/100 [00:01<00:01, 27.49it/s, now=None]\u001b[A\n",
      "t:  68%|██████▊   | 68/100 [00:01<00:01, 30.15it/s, now=None]\u001b[A\n",
      "t:  73%|███████▎  | 73/100 [00:02<00:00, 33.25it/s, now=None]\u001b[A\n",
      "t:  78%|███████▊  | 78/100 [00:02<00:00, 35.82it/s, now=None]\u001b[A\n",
      "t:  83%|████████▎ | 83/100 [00:02<00:00, 37.88it/s, now=None]\u001b[A\n",
      "t:  88%|████████▊ | 88/100 [00:02<00:00, 39.51it/s, now=None]\u001b[A\n",
      "t:  93%|█████████▎| 93/100 [00:02<00:00, 40.77it/s, now=None]\u001b[A\n",
      "t:  98%|█████████▊| 98/100 [00:02<00:00, 41.57it/s, now=None]\u001b[A\n",
      "t:  10%|█         | 10/100 [2:23:37<00:01, 52.20it/s, now=None]A"
     ]
    },
    {
     "name": "stdout",
     "output_type": "stream",
     "text": [
      "Moviepy - Done !\n",
      "Moviepy - video ready iterasive_result/videos/model_9_2_activation_plot.mp4\n"
     ]
    },
    {
     "name": "stderr",
     "output_type": "stream",
     "text": [
      "t:  10%|█         | 10/100 [2:23:39<00:01, 52.20it/s, now=None]\n",
      "t:   0%|          | 0/100 [00:00<?, ?it/s, now=None]\u001b[A\n",
      "t:   6%|▌         | 6/100 [00:00<00:01, 52.94it/s, now=None]\u001b[A"
     ]
    },
    {
     "name": "stdout",
     "output_type": "stream",
     "text": [
      "Moviepy - Building video iterasive_result/videos/model_9_2_prediction_plot.mp4.\n",
      "Moviepy - Writing video iterasive_result/videos/model_9_2_prediction_plot.mp4\n",
      "\n"
     ]
    },
    {
     "name": "stderr",
     "output_type": "stream",
     "text": [
      "\n",
      "t:  11%|█         | 11/100 [00:00<00:01, 51.53it/s, now=None]\u001b[A\n",
      "t:  17%|█▋        | 17/100 [00:00<00:01, 51.38it/s, now=None]\u001b[A\n",
      "t:  22%|██▏       | 22/100 [00:00<00:01, 50.91it/s, now=None]\u001b[A\n",
      "t:  28%|██▊       | 28/100 [00:00<00:01, 50.96it/s, now=None]\u001b[A\n",
      "t:  34%|███▍      | 34/100 [00:00<00:01, 50.99it/s, now=None]\u001b[A\n",
      "t:  39%|███▉      | 39/100 [00:00<00:01, 50.62it/s, now=None]\u001b[A\n",
      "t:  45%|████▌     | 45/100 [00:00<00:01, 50.50it/s, now=None]\u001b[A\n",
      "t:  50%|█████     | 50/100 [00:01<00:01, 43.50it/s, now=None]\u001b[A\n",
      "t:  55%|█████▌    | 55/100 [00:01<00:01, 40.60it/s, now=None]\u001b[A\n",
      "t:  60%|██████    | 60/100 [00:01<00:00, 42.22it/s, now=None]\u001b[A\n",
      "t:  65%|██████▌   | 65/100 [00:01<00:00, 44.02it/s, now=None]\u001b[A\n",
      "t:  70%|███████   | 70/100 [00:01<00:00, 45.65it/s, now=None]\u001b[A\n",
      "t:  76%|███████▌  | 76/100 [00:01<00:00, 47.03it/s, now=None]\u001b[A\n",
      "t:  81%|████████  | 81/100 [00:01<00:00, 47.59it/s, now=None]\u001b[A\n",
      "t:  86%|████████▌ | 86/100 [00:01<00:00, 43.02it/s, now=None]\u001b[A\n",
      "t:  91%|█████████ | 91/100 [00:01<00:00, 44.65it/s, now=None]\u001b[A\n",
      "t:  97%|█████████▋| 97/100 [00:02<00:00, 46.20it/s, now=None]\u001b[A\n",
      "t:  10%|█         | 10/100 [2:23:41<00:01, 52.20it/s, now=None]A"
     ]
    },
    {
     "name": "stdout",
     "output_type": "stream",
     "text": [
      "Moviepy - Done !\n",
      "Moviepy - video ready iterasive_result/videos/model_9_2_prediction_plot.mp4\n"
     ]
    },
    {
     "name": "stderr",
     "output_type": "stream",
     "text": [
      "t:  10%|█         | 10/100 [2:23:43<00:01, 52.20it/s, now=None]\n",
      "t:   0%|          | 0/100 [00:00<?, ?it/s, now=None]\u001b[A\n",
      "t:   4%|▍         | 4/100 [00:00<00:03, 31.67it/s, now=None]\u001b[A"
     ]
    },
    {
     "name": "stdout",
     "output_type": "stream",
     "text": [
      "Moviepy - Building video iterasive_result/videos/model_10_2_activation_plot.mp4.\n",
      "Moviepy - Writing video iterasive_result/videos/model_10_2_activation_plot.mp4\n",
      "\n"
     ]
    },
    {
     "name": "stderr",
     "output_type": "stream",
     "text": [
      "\n",
      "t:   6%|▌         | 6/100 [00:00<00:03, 26.72it/s, now=None]\u001b[A\n",
      "t:   9%|▉         | 9/100 [00:00<00:03, 26.22it/s, now=None]\u001b[A\n",
      "t:  12%|█▏        | 12/100 [00:00<00:03, 26.09it/s, now=None]\u001b[A\n",
      "t:  15%|█▌        | 15/100 [00:00<00:03, 26.00it/s, now=None]\u001b[A\n",
      "t:  18%|█▊        | 18/100 [00:00<00:03, 25.98it/s, now=None]\u001b[A\n",
      "t:  21%|██        | 21/100 [00:00<00:03, 26.01it/s, now=None]\u001b[A\n",
      "t:  24%|██▍       | 24/100 [00:00<00:02, 26.00it/s, now=None]\u001b[A\n",
      "t:  27%|██▋       | 27/100 [00:01<00:02, 25.96it/s, now=None]\u001b[A\n",
      "t:  30%|███       | 30/100 [00:01<00:02, 26.00it/s, now=None]\u001b[A\n",
      "t:  33%|███▎      | 33/100 [00:01<00:02, 26.12it/s, now=None]\u001b[A\n",
      "t:  36%|███▌      | 36/100 [00:01<00:02, 26.20it/s, now=None]\u001b[A\n",
      "t:  39%|███▉      | 39/100 [00:01<00:02, 26.26it/s, now=None]\u001b[A\n",
      "t:  42%|████▏     | 42/100 [00:01<00:02, 26.31it/s, now=None]\u001b[A\n",
      "t:  45%|████▌     | 45/100 [00:01<00:02, 26.27it/s, now=None]\u001b[A\n",
      "t:  48%|████▊     | 48/100 [00:01<00:01, 26.11it/s, now=None]\u001b[A\n",
      "t:  51%|█████     | 51/100 [00:01<00:01, 25.60it/s, now=None]\u001b[A\n",
      "t:  54%|█████▍    | 54/100 [00:02<00:01, 25.48it/s, now=None]\u001b[A\n",
      "t:  57%|█████▋    | 57/100 [00:02<00:01, 25.35it/s, now=None]\u001b[A\n",
      "t:  60%|██████    | 60/100 [00:02<00:01, 25.27it/s, now=None]\u001b[A\n",
      "t:  63%|██████▎   | 63/100 [00:02<00:01, 25.08it/s, now=None]\u001b[A\n",
      "t:  66%|██████▌   | 66/100 [00:02<00:01, 25.00it/s, now=None]\u001b[A\n",
      "t:  69%|██████▉   | 69/100 [00:02<00:01, 24.93it/s, now=None]\u001b[A\n",
      "t:  72%|███████▏  | 72/100 [00:02<00:01, 24.98it/s, now=None]\u001b[A\n",
      "t:  75%|███████▌  | 75/100 [00:02<00:01, 24.87it/s, now=None]\u001b[A\n",
      "t:  78%|███████▊  | 78/100 [00:03<00:00, 24.89it/s, now=None]\u001b[A\n",
      "t:  81%|████████  | 81/100 [00:03<00:00, 24.91it/s, now=None]\u001b[A\n",
      "t:  84%|████████▍ | 84/100 [00:03<00:00, 24.96it/s, now=None]\u001b[A\n",
      "t:  87%|████████▋ | 87/100 [00:03<00:00, 24.99it/s, now=None]\u001b[A\n",
      "t:  90%|█████████ | 90/100 [00:03<00:00, 24.97it/s, now=None]\u001b[A\n",
      "t:  93%|█████████▎| 93/100 [00:03<00:00, 24.94it/s, now=None]\u001b[A\n",
      "t:  96%|█████████▌| 96/100 [00:03<00:00, 24.94it/s, now=None]\u001b[A\n",
      "t:  99%|█████████▉| 99/100 [00:03<00:00, 24.94it/s, now=None]\u001b[A\n",
      "t:  10%|█         | 10/100 [2:23:47<00:01, 52.20it/s, now=None]A"
     ]
    },
    {
     "name": "stdout",
     "output_type": "stream",
     "text": [
      "Moviepy - Done !\n",
      "Moviepy - video ready iterasive_result/videos/model_10_2_activation_plot.mp4\n"
     ]
    },
    {
     "name": "stderr",
     "output_type": "stream",
     "text": [
      "t:  10%|█         | 10/100 [2:23:49<00:01, 52.20it/s, now=None]\n",
      "t:   0%|          | 0/100 [00:00<?, ?it/s, now=None]\u001b[A\n",
      "t:   4%|▍         | 4/100 [00:00<00:02, 32.30it/s, now=None]\u001b[A"
     ]
    },
    {
     "name": "stdout",
     "output_type": "stream",
     "text": [
      "Moviepy - Building video iterasive_result/videos/model_10_2_prediction_plot.mp4.\n",
      "Moviepy - Writing video iterasive_result/videos/model_10_2_prediction_plot.mp4\n",
      "\n"
     ]
    },
    {
     "name": "stderr",
     "output_type": "stream",
     "text": [
      "\n",
      "t:   7%|▋         | 7/100 [00:00<00:03, 28.72it/s, now=None]\u001b[A\n",
      "t:  10%|█         | 10/100 [00:00<00:03, 27.96it/s, now=None]\u001b[A\n",
      "t:  13%|█▎        | 13/100 [00:00<00:03, 27.70it/s, now=None]\u001b[A\n",
      "t:  16%|█▌        | 16/100 [00:00<00:03, 27.58it/s, now=None]\u001b[A\n",
      "t:  19%|█▉        | 19/100 [00:00<00:02, 27.61it/s, now=None]\u001b[A\n",
      "t:  22%|██▏       | 22/100 [00:00<00:02, 27.67it/s, now=None]\u001b[A\n",
      "t:  25%|██▌       | 25/100 [00:00<00:02, 27.72it/s, now=None]\u001b[A\n",
      "t:  28%|██▊       | 28/100 [00:01<00:02, 27.63it/s, now=None]\u001b[A\n",
      "t:  31%|███       | 31/100 [00:01<00:02, 27.57it/s, now=None]\u001b[A\n",
      "t:  34%|███▍      | 34/100 [00:01<00:02, 27.58it/s, now=None]\u001b[A\n",
      "t:  37%|███▋      | 37/100 [00:01<00:02, 27.58it/s, now=None]\u001b[A\n",
      "t:  40%|████      | 40/100 [00:01<00:02, 27.58it/s, now=None]\u001b[A\n",
      "t:  43%|████▎     | 43/100 [00:01<00:02, 27.48it/s, now=None]\u001b[A\n",
      "t:  46%|████▌     | 46/100 [00:01<00:01, 27.45it/s, now=None]\u001b[A\n",
      "t:  49%|████▉     | 49/100 [00:01<00:01, 27.40it/s, now=None]\u001b[A\n",
      "t:  52%|█████▏    | 52/100 [00:01<00:01, 27.35it/s, now=None]\u001b[A\n",
      "t:  55%|█████▌    | 55/100 [00:02<00:01, 27.39it/s, now=None]\u001b[A\n",
      "t:  58%|█████▊    | 58/100 [00:02<00:01, 27.28it/s, now=None]\u001b[A\n",
      "t:  61%|██████    | 61/100 [00:02<00:01, 27.30it/s, now=None]\u001b[A\n",
      "t:  64%|██████▍   | 64/100 [00:02<00:01, 27.42it/s, now=None]\u001b[A\n",
      "t:  67%|██████▋   | 67/100 [00:02<00:01, 27.38it/s, now=None]\u001b[A\n",
      "t:  70%|███████   | 70/100 [00:02<00:01, 27.07it/s, now=None]\u001b[A\n",
      "t:  73%|███████▎  | 73/100 [00:02<00:01, 26.93it/s, now=None]\u001b[A\n",
      "t:  76%|███████▌  | 76/100 [00:02<00:00, 26.85it/s, now=None]\u001b[A\n",
      "t:  79%|███████▉  | 79/100 [00:02<00:00, 26.74it/s, now=None]\u001b[A\n",
      "t:  82%|████████▏ | 82/100 [00:03<00:00, 26.64it/s, now=None]\u001b[A\n",
      "t:  85%|████████▌ | 85/100 [00:03<00:00, 26.66it/s, now=None]\u001b[A\n",
      "t:  88%|████████▊ | 88/100 [00:03<00:00, 26.68it/s, now=None]\u001b[A\n",
      "t:  91%|█████████ | 91/100 [00:03<00:00, 26.80it/s, now=None]\u001b[A\n",
      "t:  94%|█████████▍| 94/100 [00:03<00:00, 27.01it/s, now=None]\u001b[A\n",
      "t:  97%|█████████▋| 97/100 [00:03<00:00, 27.12it/s, now=None]\u001b[A\n",
      "t: 100%|██████████| 100/100 [00:03<00:00, 26.91it/s, now=None]\u001b[A\n",
      "t:  10%|█         | 10/100 [2:23:53<00:01, 52.20it/s, now=None][A"
     ]
    },
    {
     "name": "stdout",
     "output_type": "stream",
     "text": [
      "Moviepy - Done !\n",
      "Moviepy - video ready iterasive_result/videos/model_10_2_prediction_plot.mp4\n"
     ]
    },
    {
     "name": "stderr",
     "output_type": "stream",
     "text": [
      "t:  10%|█         | 10/100 [2:23:55<00:01, 52.20it/s, now=None]\n",
      "t:   0%|          | 0/100 [00:00<?, ?it/s, now=None]\u001b[A\n",
      "t:   3%|▎         | 3/100 [00:00<00:03, 28.28it/s, now=None]\u001b[A"
     ]
    },
    {
     "name": "stdout",
     "output_type": "stream",
     "text": [
      "Moviepy - Building video iterasive_result/videos/model_20_2_activation_plot.mp4.\n",
      "Moviepy - Writing video iterasive_result/videos/model_20_2_activation_plot.mp4\n",
      "\n"
     ]
    },
    {
     "name": "stderr",
     "output_type": "stream",
     "text": [
      "\n",
      "t:   5%|▌         | 5/100 [00:00<00:03, 24.06it/s, now=None]\u001b[A\n",
      "t:   7%|▋         | 7/100 [00:00<00:04, 20.43it/s, now=None]\u001b[A\n",
      "t:  10%|█         | 10/100 [00:00<00:04, 21.06it/s, now=None]\u001b[A\n",
      "t:  13%|█▎        | 13/100 [00:00<00:03, 21.83it/s, now=None]\u001b[A\n",
      "t:  16%|█▌        | 16/100 [00:00<00:03, 22.70it/s, now=None]\u001b[A\n",
      "t:  19%|█▉        | 19/100 [00:00<00:03, 23.39it/s, now=None]\u001b[A\n",
      "t:  22%|██▏       | 22/100 [00:00<00:03, 23.88it/s, now=None]\u001b[A\n",
      "t:  25%|██▌       | 25/100 [00:01<00:03, 24.00it/s, now=None]\u001b[A\n",
      "t:  28%|██▊       | 28/100 [00:01<00:02, 24.17it/s, now=None]\u001b[A\n",
      "t:  31%|███       | 31/100 [00:01<00:02, 24.33it/s, now=None]\u001b[A\n",
      "t:  34%|███▍      | 34/100 [00:01<00:02, 24.33it/s, now=None]\u001b[A\n",
      "t:  37%|███▋      | 37/100 [00:01<00:02, 24.60it/s, now=None]\u001b[A\n",
      "t:  40%|████      | 40/100 [00:01<00:02, 24.78it/s, now=None]\u001b[A\n",
      "t:  43%|████▎     | 43/100 [00:01<00:02, 24.91it/s, now=None]\u001b[A\n",
      "t:  46%|████▌     | 46/100 [00:01<00:02, 24.64it/s, now=None]\u001b[A\n",
      "t:  49%|████▉     | 49/100 [00:02<00:02, 24.34it/s, now=None]\u001b[A\n",
      "t:  52%|█████▏    | 52/100 [00:02<00:02, 23.70it/s, now=None]\u001b[A\n",
      "t:  55%|█████▌    | 55/100 [00:02<00:01, 23.34it/s, now=None]\u001b[A\n",
      "t:  58%|█████▊    | 58/100 [00:02<00:01, 22.98it/s, now=None]\u001b[A\n",
      "t:  61%|██████    | 61/100 [00:02<00:01, 22.78it/s, now=None]\u001b[A\n",
      "t:  64%|██████▍   | 64/100 [00:02<00:01, 22.76it/s, now=None]\u001b[A\n",
      "t:  67%|██████▋   | 67/100 [00:02<00:01, 22.63it/s, now=None]\u001b[A\n",
      "t:  70%|███████   | 70/100 [00:03<00:01, 20.56it/s, now=None]\u001b[A\n",
      "t:  73%|███████▎  | 73/100 [00:03<00:01, 21.08it/s, now=None]\u001b[A\n",
      "t:  76%|███████▌  | 76/100 [00:03<00:01, 21.47it/s, now=None]\u001b[A\n",
      "t:  79%|███████▉  | 79/100 [00:03<00:00, 21.81it/s, now=None]\u001b[A\n",
      "t:  82%|████████▏ | 82/100 [00:03<00:00, 22.00it/s, now=None]\u001b[A\n",
      "t:  85%|████████▌ | 85/100 [00:03<00:00, 22.55it/s, now=None]\u001b[A\n",
      "t:  88%|████████▊ | 88/100 [00:03<00:00, 23.04it/s, now=None]\u001b[A\n",
      "t:  91%|█████████ | 91/100 [00:03<00:00, 23.27it/s, now=None]\u001b[A\n",
      "t:  94%|█████████▍| 94/100 [00:04<00:00, 23.08it/s, now=None]\u001b[A\n",
      "t:  97%|█████████▋| 97/100 [00:04<00:00, 22.85it/s, now=None]\u001b[A\n",
      "t: 100%|██████████| 100/100 [00:04<00:00, 22.76it/s, now=None]\u001b[A\n",
      "t:  10%|█         | 10/100 [2:24:00<00:01, 52.20it/s, now=None][A"
     ]
    },
    {
     "name": "stdout",
     "output_type": "stream",
     "text": [
      "Moviepy - Done !\n",
      "Moviepy - video ready iterasive_result/videos/model_20_2_activation_plot.mp4\n"
     ]
    },
    {
     "name": "stderr",
     "output_type": "stream",
     "text": [
      "t:  10%|█         | 10/100 [2:24:02<00:01, 52.20it/s, now=None]\n",
      "t:   0%|          | 0/100 [00:00<?, ?it/s, now=None]\u001b[A\n",
      "t:   3%|▎         | 3/100 [00:00<00:03, 29.06it/s, now=None]\u001b[A"
     ]
    },
    {
     "name": "stdout",
     "output_type": "stream",
     "text": [
      "Moviepy - Building video iterasive_result/videos/model_20_2_prediction_plot.mp4.\n",
      "Moviepy - Writing video iterasive_result/videos/model_20_2_prediction_plot.mp4\n",
      "\n"
     ]
    },
    {
     "name": "stderr",
     "output_type": "stream",
     "text": [
      "\n",
      "t:   5%|▌         | 5/100 [00:00<00:03, 24.85it/s, now=None]\u001b[A\n",
      "t:   8%|▊         | 8/100 [00:00<00:03, 25.12it/s, now=None]\u001b[A\n",
      "t:  11%|█         | 11/100 [00:00<00:03, 25.33it/s, now=None]\u001b[A\n",
      "t:  14%|█▍        | 14/100 [00:00<00:03, 25.31it/s, now=None]\u001b[A\n",
      "t:  17%|█▋        | 17/100 [00:00<00:03, 25.74it/s, now=None]\u001b[A\n",
      "t:  20%|██        | 20/100 [00:00<00:03, 25.90it/s, now=None]\u001b[A\n",
      "t:  23%|██▎       | 23/100 [00:00<00:02, 26.00it/s, now=None]\u001b[A\n",
      "t:  26%|██▌       | 26/100 [00:01<00:02, 26.12it/s, now=None]\u001b[A\n",
      "t:  29%|██▉       | 29/100 [00:01<00:02, 26.38it/s, now=None]\u001b[A\n",
      "t:  32%|███▏      | 32/100 [00:01<00:02, 26.40it/s, now=None]\u001b[A\n",
      "t:  35%|███▌      | 35/100 [00:01<00:02, 26.63it/s, now=None]\u001b[A\n",
      "t:  38%|███▊      | 38/100 [00:01<00:02, 26.82it/s, now=None]\u001b[A\n",
      "t:  41%|████      | 41/100 [00:01<00:02, 26.97it/s, now=None]\u001b[A\n",
      "t:  44%|████▍     | 44/100 [00:01<00:02, 26.92it/s, now=None]\u001b[A\n",
      "t:  47%|████▋     | 47/100 [00:01<00:01, 26.91it/s, now=None]\u001b[A\n",
      "t:  50%|█████     | 50/100 [00:01<00:01, 26.81it/s, now=None]\u001b[A\n",
      "t:  53%|█████▎    | 53/100 [00:02<00:01, 26.57it/s, now=None]\u001b[A\n",
      "t:  56%|█████▌    | 56/100 [00:02<00:01, 26.73it/s, now=None]\u001b[A\n",
      "t:  59%|█████▉    | 59/100 [00:02<00:01, 26.32it/s, now=None]\u001b[A\n",
      "t:  62%|██████▏   | 62/100 [00:02<00:01, 26.30it/s, now=None]\u001b[A\n",
      "t:  65%|██████▌   | 65/100 [00:02<00:01, 26.35it/s, now=None]\u001b[A\n",
      "t:  68%|██████▊   | 68/100 [00:02<00:01, 26.22it/s, now=None]\u001b[A\n",
      "t:  71%|███████   | 71/100 [00:02<00:01, 26.16it/s, now=None]\u001b[A\n",
      "t:  74%|███████▍  | 74/100 [00:02<00:00, 26.03it/s, now=None]\u001b[A\n",
      "t:  77%|███████▋  | 77/100 [00:02<00:00, 26.05it/s, now=None]\u001b[A\n",
      "t:  80%|████████  | 80/100 [00:03<00:00, 26.34it/s, now=None]\u001b[A\n",
      "t:  83%|████████▎ | 83/100 [00:03<00:00, 26.65it/s, now=None]\u001b[A\n",
      "t:  86%|████████▌ | 86/100 [00:03<00:00, 26.42it/s, now=None]\u001b[A\n",
      "t:  89%|████████▉ | 89/100 [00:03<00:00, 26.31it/s, now=None]\u001b[A\n",
      "t:  92%|█████████▏| 92/100 [00:03<00:00, 26.22it/s, now=None]\u001b[A\n",
      "t:  95%|█████████▌| 95/100 [00:03<00:00, 26.46it/s, now=None]\u001b[A\n",
      "t:  98%|█████████▊| 98/100 [00:03<00:00, 26.68it/s, now=None]\u001b[A\n",
      "t:  10%|█         | 10/100 [2:24:06<00:01, 52.20it/s, now=None]A"
     ]
    },
    {
     "name": "stdout",
     "output_type": "stream",
     "text": [
      "Moviepy - Done !\n",
      "Moviepy - video ready iterasive_result/videos/model_20_2_prediction_plot.mp4\n"
     ]
    },
    {
     "name": "stderr",
     "output_type": "stream",
     "text": [
      "t:  10%|█         | 10/100 [2:24:08<00:01, 52.20it/s, now=None]\n",
      "t:   0%|          | 0/100 [00:00<?, ?it/s, now=None]\u001b[A\n",
      "t:   4%|▍         | 4/100 [00:00<00:03, 30.93it/s, now=None]\u001b[A"
     ]
    },
    {
     "name": "stdout",
     "output_type": "stream",
     "text": [
      "Moviepy - Building video iterasive_result/videos/model_30_2_activation_plot.mp4.\n",
      "Moviepy - Writing video iterasive_result/videos/model_30_2_activation_plot.mp4\n",
      "\n"
     ]
    },
    {
     "name": "stderr",
     "output_type": "stream",
     "text": [
      "\n",
      "t:   6%|▌         | 6/100 [00:00<00:03, 25.82it/s, now=None]\u001b[A\n",
      "t:   9%|▉         | 9/100 [00:00<00:03, 25.00it/s, now=None]\u001b[A\n",
      "t:  12%|█▏        | 12/100 [00:00<00:03, 24.57it/s, now=None]\u001b[A\n",
      "t:  15%|█▌        | 15/100 [00:00<00:03, 24.52it/s, now=None]\u001b[A\n",
      "t:  18%|█▊        | 18/100 [00:00<00:03, 24.47it/s, now=None]\u001b[A\n",
      "t:  21%|██        | 21/100 [00:00<00:03, 24.47it/s, now=None]\u001b[A\n",
      "t:  24%|██▍       | 24/100 [00:00<00:03, 24.17it/s, now=None]\u001b[A\n",
      "t:  27%|██▋       | 27/100 [00:01<00:03, 24.16it/s, now=None]\u001b[A\n",
      "t:  30%|███       | 30/100 [00:01<00:02, 24.30it/s, now=None]\u001b[A\n",
      "t:  33%|███▎      | 33/100 [00:01<00:02, 24.37it/s, now=None]\u001b[A\n",
      "t:  36%|███▌      | 36/100 [00:01<00:02, 24.20it/s, now=None]\u001b[A\n",
      "t:  39%|███▉      | 39/100 [00:01<00:02, 24.31it/s, now=None]\u001b[A\n",
      "t:  42%|████▏     | 42/100 [00:01<00:02, 24.17it/s, now=None]\u001b[A\n",
      "t:  45%|████▌     | 45/100 [00:01<00:02, 23.94it/s, now=None]\u001b[A\n",
      "t:  48%|████▊     | 48/100 [00:01<00:02, 23.73it/s, now=None]\u001b[A\n",
      "t:  51%|█████     | 51/100 [00:02<00:02, 23.46it/s, now=None]\u001b[A\n",
      "t:  54%|█████▍    | 54/100 [00:02<00:01, 23.43it/s, now=None]\u001b[A\n",
      "t:  57%|█████▋    | 57/100 [00:02<00:01, 23.18it/s, now=None]\u001b[A\n",
      "t:  60%|██████    | 60/100 [00:02<00:01, 23.09it/s, now=None]\u001b[A\n",
      "t:  63%|██████▎   | 63/100 [00:02<00:01, 22.98it/s, now=None]\u001b[A\n",
      "t:  66%|██████▌   | 66/100 [00:02<00:01, 22.94it/s, now=None]\u001b[A\n",
      "t:  69%|██████▉   | 69/100 [00:02<00:01, 22.87it/s, now=None]\u001b[A\n",
      "t:  72%|███████▏  | 72/100 [00:03<00:01, 23.02it/s, now=None]\u001b[A\n",
      "t:  75%|███████▌  | 75/100 [00:03<00:01, 22.91it/s, now=None]\u001b[A\n",
      "t:  78%|███████▊  | 78/100 [00:03<00:00, 22.99it/s, now=None]\u001b[A\n",
      "t:  81%|████████  | 81/100 [00:03<00:00, 23.08it/s, now=None]\u001b[A\n",
      "t:  84%|████████▍ | 84/100 [00:03<00:00, 22.99it/s, now=None]\u001b[A\n",
      "t:  87%|████████▋ | 87/100 [00:03<00:00, 22.96it/s, now=None]\u001b[A\n",
      "t:  90%|█████████ | 90/100 [00:03<00:00, 23.05it/s, now=None]\u001b[A\n",
      "t:  93%|█████████▎| 93/100 [00:03<00:00, 23.13it/s, now=None]\u001b[A\n",
      "t:  96%|█████████▌| 96/100 [00:04<00:00, 23.11it/s, now=None]\u001b[A\n",
      "t:  99%|█████████▉| 99/100 [00:04<00:00, 23.03it/s, now=None]\u001b[A\n",
      "t:  10%|█         | 10/100 [2:24:13<00:01, 52.20it/s, now=None]A"
     ]
    },
    {
     "name": "stdout",
     "output_type": "stream",
     "text": [
      "Moviepy - Done !\n",
      "Moviepy - video ready iterasive_result/videos/model_30_2_activation_plot.mp4\n"
     ]
    },
    {
     "name": "stderr",
     "output_type": "stream",
     "text": [
      "t:  10%|█         | 10/100 [2:24:14<00:01, 52.20it/s, now=None]\n",
      "t:   0%|          | 0/100 [00:00<?, ?it/s, now=None]\u001b[A\n",
      "t:   4%|▍         | 4/100 [00:00<00:03, 31.80it/s, now=None]\u001b[A"
     ]
    },
    {
     "name": "stdout",
     "output_type": "stream",
     "text": [
      "Moviepy - Building video iterasive_result/videos/model_30_2_prediction_plot.mp4.\n",
      "Moviepy - Writing video iterasive_result/videos/model_30_2_prediction_plot.mp4\n",
      "\n"
     ]
    },
    {
     "name": "stderr",
     "output_type": "stream",
     "text": [
      "\n",
      "t:   6%|▌         | 6/100 [00:00<00:03, 26.75it/s, now=None]\u001b[A\n",
      "t:   9%|▉         | 9/100 [00:00<00:03, 26.45it/s, now=None]\u001b[A\n",
      "t:  12%|█▏        | 12/100 [00:00<00:03, 26.43it/s, now=None]\u001b[A\n",
      "t:  15%|█▌        | 15/100 [00:00<00:03, 26.69it/s, now=None]\u001b[A\n",
      "t:  18%|█▊        | 18/100 [00:00<00:03, 26.73it/s, now=None]\u001b[A\n",
      "t:  21%|██        | 21/100 [00:00<00:02, 26.70it/s, now=None]\u001b[A\n",
      "t:  24%|██▍       | 24/100 [00:00<00:02, 26.40it/s, now=None]\u001b[A\n",
      "t:  27%|██▋       | 27/100 [00:01<00:02, 26.23it/s, now=None]\u001b[A\n",
      "t:  30%|███       | 30/100 [00:01<00:02, 26.11it/s, now=None]\u001b[A\n",
      "t:  33%|███▎      | 33/100 [00:01<00:02, 26.43it/s, now=None]\u001b[A\n",
      "t:  36%|███▌      | 36/100 [00:01<00:02, 26.72it/s, now=None]\u001b[A\n",
      "t:  39%|███▉      | 39/100 [00:01<00:02, 26.93it/s, now=None]\u001b[A\n",
      "t:  42%|████▏     | 42/100 [00:01<00:02, 27.09it/s, now=None]\u001b[A\n",
      "t:  45%|████▌     | 45/100 [00:01<00:02, 26.83it/s, now=None]\u001b[A\n",
      "t:  48%|████▊     | 48/100 [00:01<00:01, 26.68it/s, now=None]\u001b[A\n",
      "t:  51%|█████     | 51/100 [00:01<00:01, 26.46it/s, now=None]\u001b[A\n",
      "t:  54%|█████▍    | 54/100 [00:02<00:01, 26.41it/s, now=None]\u001b[A\n",
      "t:  57%|█████▋    | 57/100 [00:02<00:01, 26.34it/s, now=None]\u001b[A\n",
      "t:  60%|██████    | 60/100 [00:02<00:01, 26.19it/s, now=None]\u001b[A\n",
      "t:  63%|██████▎   | 63/100 [00:02<00:01, 25.96it/s, now=None]\u001b[A\n",
      "t:  66%|██████▌   | 66/100 [00:02<00:01, 25.93it/s, now=None]\u001b[A\n",
      "t:  69%|██████▉   | 69/100 [00:02<00:01, 25.82it/s, now=None]\u001b[A\n",
      "t:  72%|███████▏  | 72/100 [00:02<00:01, 25.66it/s, now=None]\u001b[A\n",
      "t:  75%|███████▌  | 75/100 [00:02<00:00, 25.95it/s, now=None]\u001b[A\n",
      "t:  78%|███████▊  | 78/100 [00:02<00:00, 25.89it/s, now=None]\u001b[A\n",
      "t:  81%|████████  | 81/100 [00:03<00:00, 25.92it/s, now=None]\u001b[A\n",
      "t:  84%|████████▍ | 84/100 [00:03<00:00, 25.93it/s, now=None]\u001b[A\n",
      "t:  87%|████████▋ | 87/100 [00:03<00:00, 26.00it/s, now=None]\u001b[A\n",
      "t:  90%|█████████ | 90/100 [00:03<00:00, 26.01it/s, now=None]\u001b[A\n",
      "t:  93%|█████████▎| 93/100 [00:03<00:00, 26.19it/s, now=None]\u001b[A\n",
      "t:  96%|█████████▌| 96/100 [00:03<00:00, 26.49it/s, now=None]\u001b[A\n",
      "t:  99%|█████████▉| 99/100 [00:03<00:00, 26.70it/s, now=None]\u001b[A\n",
      "t:  10%|█         | 10/100 [2:24:18<00:01, 52.20it/s, now=None]A"
     ]
    },
    {
     "name": "stdout",
     "output_type": "stream",
     "text": [
      "Moviepy - Done !\n",
      "Moviepy - video ready iterasive_result/videos/model_30_2_prediction_plot.mp4\n"
     ]
    },
    {
     "name": "stderr",
     "output_type": "stream",
     "text": [
      "t:  10%|█         | 10/100 [2:24:21<00:01, 52.20it/s, now=None]\n",
      "t:   0%|          | 0/100 [00:00<?, ?it/s, now=None]\u001b[A\n",
      "t:   4%|▍         | 4/100 [00:00<00:03, 30.44it/s, now=None]\u001b[A"
     ]
    },
    {
     "name": "stdout",
     "output_type": "stream",
     "text": [
      "Moviepy - Building video iterasive_result/videos/model_60_2_activation_plot.mp4.\n",
      "Moviepy - Writing video iterasive_result/videos/model_60_2_activation_plot.mp4\n",
      "\n"
     ]
    },
    {
     "name": "stderr",
     "output_type": "stream",
     "text": [
      "\n",
      "t:   6%|▌         | 6/100 [00:00<00:03, 25.26it/s, now=None]\u001b[A\n",
      "t:   9%|▉         | 9/100 [00:00<00:03, 24.31it/s, now=None]\u001b[A\n",
      "t:  12%|█▏        | 12/100 [00:00<00:03, 23.99it/s, now=None]\u001b[A\n",
      "t:  15%|█▌        | 15/100 [00:00<00:03, 23.42it/s, now=None]\u001b[A\n",
      "t:  18%|█▊        | 18/100 [00:00<00:03, 23.31it/s, now=None]\u001b[A\n",
      "t:  21%|██        | 21/100 [00:00<00:03, 22.93it/s, now=None]\u001b[A\n",
      "t:  24%|██▍       | 24/100 [00:01<00:03, 22.65it/s, now=None]\u001b[A\n",
      "t:  27%|██▋       | 27/100 [00:01<00:03, 22.58it/s, now=None]\u001b[A\n",
      "t:  30%|███       | 30/100 [00:01<00:03, 22.51it/s, now=None]\u001b[A\n",
      "t:  33%|███▎      | 33/100 [00:01<00:02, 22.51it/s, now=None]\u001b[A\n",
      "t:  36%|███▌      | 36/100 [00:01<00:02, 22.56it/s, now=None]\u001b[A\n",
      "t:  39%|███▉      | 39/100 [00:01<00:02, 22.77it/s, now=None]\u001b[A\n",
      "t:  42%|████▏     | 42/100 [00:01<00:02, 22.71it/s, now=None]\u001b[A\n",
      "t:  45%|████▌     | 45/100 [00:01<00:02, 22.16it/s, now=None]\u001b[A\n",
      "t:  48%|████▊     | 48/100 [00:02<00:02, 21.82it/s, now=None]\u001b[A\n",
      "t:  51%|█████     | 51/100 [00:02<00:02, 22.03it/s, now=None]\u001b[A\n",
      "t:  54%|█████▍    | 54/100 [00:02<00:02, 22.20it/s, now=None]\u001b[A\n",
      "t:  57%|█████▋    | 57/100 [00:02<00:01, 22.26it/s, now=None]\u001b[A\n",
      "t:  60%|██████    | 60/100 [00:02<00:01, 22.37it/s, now=None]\u001b[A\n",
      "t:  63%|██████▎   | 63/100 [00:02<00:01, 22.36it/s, now=None]\u001b[A\n",
      "t:  66%|██████▌   | 66/100 [00:02<00:01, 22.50it/s, now=None]\u001b[A\n",
      "t:  69%|██████▉   | 69/100 [00:03<00:01, 22.51it/s, now=None]\u001b[A\n",
      "t:  72%|███████▏  | 72/100 [00:03<00:01, 22.57it/s, now=None]\u001b[A\n",
      "t:  75%|███████▌  | 75/100 [00:03<00:01, 22.59it/s, now=None]\u001b[A\n",
      "t:  78%|███████▊  | 78/100 [00:03<00:00, 22.69it/s, now=None]\u001b[A\n",
      "t:  81%|████████  | 81/100 [00:03<00:00, 22.62it/s, now=None]\u001b[A\n",
      "t:  84%|████████▍ | 84/100 [00:03<00:00, 22.59it/s, now=None]\u001b[A\n",
      "t:  87%|████████▋ | 87/100 [00:03<00:00, 22.56it/s, now=None]\u001b[A\n",
      "t:  90%|█████████ | 90/100 [00:03<00:00, 22.54it/s, now=None]\u001b[A\n",
      "t:  93%|█████████▎| 93/100 [00:04<00:00, 22.77it/s, now=None]\u001b[A\n",
      "t:  96%|█████████▌| 96/100 [00:04<00:00, 22.93it/s, now=None]\u001b[A\n",
      "t:  99%|█████████▉| 99/100 [00:04<00:00, 22.83it/s, now=None]\u001b[A\n",
      "t:  10%|█         | 10/100 [2:24:26<00:01, 52.20it/s, now=None]A"
     ]
    },
    {
     "name": "stdout",
     "output_type": "stream",
     "text": [
      "Moviepy - Done !\n",
      "Moviepy - video ready iterasive_result/videos/model_60_2_activation_plot.mp4\n"
     ]
    },
    {
     "name": "stderr",
     "output_type": "stream",
     "text": [
      "t:  10%|█         | 10/100 [2:24:28<00:01, 52.20it/s, now=None]\n",
      "t:   0%|          | 0/100 [00:00<?, ?it/s, now=None]\u001b[A\n",
      "t:   4%|▍         | 4/100 [00:00<00:03, 31.68it/s, now=None]\u001b[A"
     ]
    },
    {
     "name": "stdout",
     "output_type": "stream",
     "text": [
      "Moviepy - Building video iterasive_result/videos/model_60_2_prediction_plot.mp4.\n",
      "Moviepy - Writing video iterasive_result/videos/model_60_2_prediction_plot.mp4\n",
      "\n"
     ]
    },
    {
     "name": "stderr",
     "output_type": "stream",
     "text": [
      "\n",
      "t:   7%|▋         | 7/100 [00:00<00:03, 29.40it/s, now=None]\u001b[A\n",
      "t:  10%|█         | 10/100 [00:00<00:03, 27.98it/s, now=None]\u001b[A\n",
      "t:  13%|█▎        | 13/100 [00:00<00:03, 26.90it/s, now=None]\u001b[A\n",
      "t:  16%|█▌        | 16/100 [00:00<00:03, 26.81it/s, now=None]\u001b[A\n",
      "t:  19%|█▉        | 19/100 [00:00<00:03, 26.67it/s, now=None]\u001b[A\n",
      "t:  22%|██▏       | 22/100 [00:00<00:02, 26.57it/s, now=None]\u001b[A\n",
      "t:  25%|██▌       | 25/100 [00:00<00:02, 26.47it/s, now=None]\u001b[A\n",
      "t:  28%|██▊       | 28/100 [00:01<00:02, 26.42it/s, now=None]\u001b[A\n",
      "t:  31%|███       | 31/100 [00:01<00:02, 26.29it/s, now=None]\u001b[A\n",
      "t:  34%|███▍      | 34/100 [00:01<00:02, 26.17it/s, now=None]\u001b[A\n",
      "t:  37%|███▋      | 37/100 [00:01<00:02, 26.13it/s, now=None]\u001b[A\n",
      "t:  40%|████      | 40/100 [00:01<00:02, 26.07it/s, now=None]\u001b[A\n",
      "t:  43%|████▎     | 43/100 [00:01<00:02, 26.34it/s, now=None]\u001b[A\n",
      "t:  46%|████▌     | 46/100 [00:01<00:02, 26.28it/s, now=None]\u001b[A\n",
      "t:  49%|████▉     | 49/100 [00:01<00:01, 26.11it/s, now=None]\u001b[A\n",
      "t:  52%|█████▏    | 52/100 [00:01<00:01, 25.90it/s, now=None]\u001b[A\n",
      "t:  55%|█████▌    | 55/100 [00:02<00:01, 25.89it/s, now=None]\u001b[A\n",
      "t:  58%|█████▊    | 58/100 [00:02<00:01, 26.11it/s, now=None]\u001b[A\n",
      "t:  61%|██████    | 61/100 [00:02<00:01, 25.99it/s, now=None]\u001b[A\n",
      "t:  64%|██████▍   | 64/100 [00:02<00:01, 26.27it/s, now=None]\u001b[A\n",
      "t:  67%|██████▋   | 67/100 [00:02<00:01, 26.08it/s, now=None]\u001b[A\n",
      "t:  70%|███████   | 70/100 [00:02<00:01, 25.98it/s, now=None]\u001b[A\n",
      "t:  73%|███████▎  | 73/100 [00:02<00:01, 25.98it/s, now=None]\u001b[A\n",
      "t:  76%|███████▌  | 76/100 [00:02<00:00, 25.96it/s, now=None]\u001b[A\n",
      "t:  79%|███████▉  | 79/100 [00:03<00:00, 25.90it/s, now=None]\u001b[A\n",
      "t:  82%|████████▏ | 82/100 [00:03<00:00, 25.96it/s, now=None]\u001b[A\n",
      "t:  85%|████████▌ | 85/100 [00:03<00:00, 26.01it/s, now=None]\u001b[A\n",
      "t:  88%|████████▊ | 88/100 [00:03<00:00, 26.03it/s, now=None]\u001b[A\n",
      "t:  91%|█████████ | 91/100 [00:03<00:00, 26.05it/s, now=None]\u001b[A\n",
      "t:  94%|█████████▍| 94/100 [00:03<00:00, 26.03it/s, now=None]\u001b[A\n",
      "t:  97%|█████████▋| 97/100 [00:03<00:00, 26.29it/s, now=None]\u001b[A\n",
      "t: 100%|██████████| 100/100 [00:03<00:00, 26.21it/s, now=None]\u001b[A\n",
      "t:  10%|█         | 10/100 [2:24:32<00:01, 52.20it/s, now=None][A"
     ]
    },
    {
     "name": "stdout",
     "output_type": "stream",
     "text": [
      "Moviepy - Done !\n",
      "Moviepy - video ready iterasive_result/videos/model_60_2_prediction_plot.mp4\n"
     ]
    },
    {
     "name": "stderr",
     "output_type": "stream",
     "text": [
      "t:  10%|█         | 10/100 [2:24:34<00:01, 52.20it/s, now=None]\n",
      "t:   0%|          | 0/100 [00:00<?, ?it/s, now=None]\u001b[A\n",
      "t:   4%|▍         | 4/100 [00:00<00:03, 29.64it/s, now=None]\u001b[A"
     ]
    },
    {
     "name": "stdout",
     "output_type": "stream",
     "text": [
      "Moviepy - Building video iterasive_result/videos/model_90_2_activation_plot.mp4.\n",
      "Moviepy - Writing video iterasive_result/videos/model_90_2_activation_plot.mp4\n",
      "\n"
     ]
    },
    {
     "name": "stderr",
     "output_type": "stream",
     "text": [
      "\n",
      "t:   6%|▌         | 6/100 [00:00<00:03, 25.22it/s, now=None]\u001b[A\n",
      "t:   9%|▉         | 9/100 [00:00<00:03, 24.15it/s, now=None]\u001b[A\n",
      "t:  12%|█▏        | 12/100 [00:00<00:03, 23.38it/s, now=None]\u001b[A\n",
      "t:  14%|█▍        | 14/100 [00:00<00:04, 19.53it/s, now=None]\u001b[A\n",
      "t:  16%|█▌        | 16/100 [00:00<00:04, 19.66it/s, now=None]\u001b[A\n",
      "t:  19%|█▉        | 19/100 [00:00<00:04, 20.09it/s, now=None]\u001b[A\n",
      "t:  22%|██▏       | 22/100 [00:01<00:03, 20.43it/s, now=None]\u001b[A\n",
      "t:  25%|██▌       | 25/100 [00:01<00:03, 20.70it/s, now=None]\u001b[A\n",
      "t:  28%|██▊       | 28/100 [00:01<00:03, 21.10it/s, now=None]\u001b[A\n",
      "t:  31%|███       | 31/100 [00:01<00:03, 21.28it/s, now=None]\u001b[A\n",
      "t:  34%|███▍      | 34/100 [00:01<00:03, 21.42it/s, now=None]\u001b[A\n",
      "t:  37%|███▋      | 37/100 [00:01<00:02, 21.70it/s, now=None]\u001b[A\n",
      "t:  40%|████      | 40/100 [00:01<00:02, 21.92it/s, now=None]\u001b[A\n",
      "t:  43%|████▎     | 43/100 [00:01<00:02, 21.87it/s, now=None]\u001b[A\n",
      "t:  46%|████▌     | 46/100 [00:02<00:02, 21.80it/s, now=None]\u001b[A\n",
      "t:  49%|████▉     | 49/100 [00:02<00:02, 21.94it/s, now=None]\u001b[A\n",
      "t:  52%|█████▏    | 52/100 [00:02<00:02, 21.79it/s, now=None]\u001b[A\n",
      "t:  55%|█████▌    | 55/100 [00:02<00:02, 21.64it/s, now=None]\u001b[A\n",
      "t:  58%|█████▊    | 58/100 [00:02<00:01, 21.45it/s, now=None]\u001b[A\n",
      "t:  61%|██████    | 61/100 [00:02<00:01, 21.37it/s, now=None]\u001b[A\n",
      "t:  64%|██████▍   | 64/100 [00:02<00:01, 21.39it/s, now=None]\u001b[A\n",
      "t:  67%|██████▋   | 67/100 [00:03<00:01, 21.37it/s, now=None]\u001b[A\n",
      "t:  70%|███████   | 70/100 [00:03<00:01, 21.42it/s, now=None]\u001b[A\n",
      "t:  73%|███████▎  | 73/100 [00:03<00:01, 21.43it/s, now=None]\u001b[A\n",
      "t:  76%|███████▌  | 76/100 [00:03<00:01, 21.37it/s, now=None]\u001b[A\n",
      "t:  79%|███████▉  | 79/100 [00:03<00:01, 19.26it/s, now=None]\u001b[A\n",
      "t:  82%|████████▏ | 82/100 [00:03<00:00, 19.80it/s, now=None]\u001b[A\n",
      "t:  85%|████████▌ | 85/100 [00:04<00:00, 20.16it/s, now=None]\u001b[A\n",
      "t:  88%|████████▊ | 88/100 [00:04<00:00, 20.39it/s, now=None]\u001b[A\n",
      "t:  91%|█████████ | 91/100 [00:04<00:00, 20.56it/s, now=None]\u001b[A\n",
      "t:  94%|█████████▍| 94/100 [00:04<00:00, 20.77it/s, now=None]\u001b[A\n",
      "t:  97%|█████████▋| 97/100 [00:04<00:00, 21.00it/s, now=None]\u001b[A\n",
      "t: 100%|██████████| 100/100 [00:04<00:00, 21.07it/s, now=None]\u001b[A\n",
      "t:  10%|█         | 10/100 [2:24:40<00:01, 52.20it/s, now=None][A"
     ]
    },
    {
     "name": "stdout",
     "output_type": "stream",
     "text": [
      "Moviepy - Done !\n",
      "Moviepy - video ready iterasive_result/videos/model_90_2_activation_plot.mp4\n"
     ]
    },
    {
     "name": "stderr",
     "output_type": "stream",
     "text": [
      "t:  10%|█         | 10/100 [2:24:41<00:01, 52.20it/s, now=None]\n",
      "t:   0%|          | 0/100 [00:00<?, ?it/s, now=None]\u001b[A\n",
      "t:   4%|▍         | 4/100 [00:00<00:02, 32.07it/s, now=None]\u001b[A"
     ]
    },
    {
     "name": "stdout",
     "output_type": "stream",
     "text": [
      "Moviepy - Building video iterasive_result/videos/model_90_2_prediction_plot.mp4.\n",
      "Moviepy - Writing video iterasive_result/videos/model_90_2_prediction_plot.mp4\n",
      "\n"
     ]
    },
    {
     "name": "stderr",
     "output_type": "stream",
     "text": [
      "\n",
      "t:   6%|▌         | 6/100 [00:00<00:03, 26.55it/s, now=None]\u001b[A\n",
      "t:   9%|▉         | 9/100 [00:00<00:03, 25.90it/s, now=None]\u001b[A\n",
      "t:  12%|█▏        | 12/100 [00:00<00:03, 25.66it/s, now=None]\u001b[A\n",
      "t:  15%|█▌        | 15/100 [00:00<00:03, 25.69it/s, now=None]\u001b[A\n",
      "t:  18%|█▊        | 18/100 [00:00<00:03, 25.65it/s, now=None]\u001b[A\n",
      "t:  21%|██        | 21/100 [00:00<00:03, 25.67it/s, now=None]\u001b[A\n",
      "t:  24%|██▍       | 24/100 [00:00<00:02, 25.79it/s, now=None]\u001b[A\n",
      "t:  27%|██▋       | 27/100 [00:01<00:02, 25.75it/s, now=None]\u001b[A\n",
      "t:  30%|███       | 30/100 [00:01<00:02, 25.74it/s, now=None]\u001b[A\n",
      "t:  33%|███▎      | 33/100 [00:01<00:02, 25.79it/s, now=None]\u001b[A\n",
      "t:  36%|███▌      | 36/100 [00:01<00:02, 25.79it/s, now=None]\u001b[A\n",
      "t:  39%|███▉      | 39/100 [00:01<00:02, 25.81it/s, now=None]\u001b[A\n",
      "t:  42%|████▏     | 42/100 [00:01<00:02, 26.18it/s, now=None]\u001b[A\n",
      "t:  45%|████▌     | 45/100 [00:01<00:02, 26.01it/s, now=None]\u001b[A\n",
      "t:  48%|████▊     | 48/100 [00:01<00:01, 26.02it/s, now=None]\u001b[A\n",
      "t:  51%|█████     | 51/100 [00:01<00:01, 25.92it/s, now=None]\u001b[A\n",
      "t:  54%|█████▍    | 54/100 [00:02<00:01, 25.91it/s, now=None]\u001b[A\n",
      "t:  57%|█████▋    | 57/100 [00:02<00:01, 25.88it/s, now=None]\u001b[A\n",
      "t:  60%|██████    | 60/100 [00:02<00:01, 25.87it/s, now=None]\u001b[A\n",
      "t:  63%|██████▎   | 63/100 [00:02<00:01, 25.77it/s, now=None]\u001b[A\n",
      "t:  66%|██████▌   | 66/100 [00:02<00:01, 25.76it/s, now=None]\u001b[A\n",
      "t:  69%|██████▉   | 69/100 [00:02<00:01, 25.67it/s, now=None]\u001b[A\n",
      "t:  72%|███████▏  | 72/100 [00:02<00:01, 25.68it/s, now=None]\u001b[A\n",
      "t:  75%|███████▌  | 75/100 [00:02<00:00, 25.66it/s, now=None]\u001b[A\n",
      "t:  78%|███████▊  | 78/100 [00:03<00:00, 25.67it/s, now=None]\u001b[A\n",
      "t:  81%|████████  | 81/100 [00:03<00:00, 25.65it/s, now=None]\u001b[A\n",
      "t:  84%|████████▍ | 84/100 [00:03<00:00, 25.70it/s, now=None]\u001b[A\n",
      "t:  87%|████████▋ | 87/100 [00:03<00:00, 25.66it/s, now=None]\u001b[A\n",
      "t:  90%|█████████ | 90/100 [00:03<00:00, 25.70it/s, now=None]\u001b[A\n",
      "t:  93%|█████████▎| 93/100 [00:03<00:00, 25.75it/s, now=None]\u001b[A\n",
      "t:  96%|█████████▌| 96/100 [00:03<00:00, 25.79it/s, now=None]\u001b[A\n",
      "t:  99%|█████████▉| 99/100 [00:03<00:00, 25.80it/s, now=None]\u001b[A\n",
      "t:  10%|█         | 10/100 [2:24:45<00:01, 52.20it/s, now=None]A"
     ]
    },
    {
     "name": "stdout",
     "output_type": "stream",
     "text": [
      "Moviepy - Done !\n",
      "Moviepy - video ready iterasive_result/videos/model_90_2_prediction_plot.mp4\n"
     ]
    },
    {
     "name": "stderr",
     "output_type": "stream",
     "text": [
      "t:  10%|█         | 10/100 [2:24:48<00:01, 52.20it/s, now=None]\n",
      "t:   0%|          | 0/100 [00:00<?, ?it/s, now=None]\u001b[A\n",
      "t:   4%|▍         | 4/100 [00:00<00:03, 29.66it/s, now=None]\u001b[A"
     ]
    },
    {
     "name": "stdout",
     "output_type": "stream",
     "text": [
      "Moviepy - Building video iterasive_result/videos/model_180_2_activation_plot.mp4.\n",
      "Moviepy - Writing video iterasive_result/videos/model_180_2_activation_plot.mp4\n",
      "\n"
     ]
    },
    {
     "name": "stderr",
     "output_type": "stream",
     "text": [
      "\n",
      "t:   6%|▌         | 6/100 [00:00<00:03, 24.24it/s, now=None]\u001b[A\n",
      "t:   9%|▉         | 9/100 [00:00<00:03, 23.25it/s, now=None]\u001b[A\n",
      "t:  12%|█▏        | 12/100 [00:00<00:03, 22.62it/s, now=None]\u001b[A\n",
      "t:  15%|█▌        | 15/100 [00:00<00:03, 22.13it/s, now=None]\u001b[A\n",
      "t:  18%|█▊        | 18/100 [00:00<00:03, 21.82it/s, now=None]\u001b[A\n",
      "t:  21%|██        | 21/100 [00:00<00:03, 21.54it/s, now=None]\u001b[A\n",
      "t:  24%|██▍       | 24/100 [00:01<00:03, 21.40it/s, now=None]\u001b[A\n",
      "t:  27%|██▋       | 27/100 [00:01<00:03, 21.22it/s, now=None]\u001b[A\n",
      "t:  30%|███       | 30/100 [00:01<00:03, 21.21it/s, now=None]\u001b[A\n",
      "t:  33%|███▎      | 33/100 [00:01<00:03, 21.17it/s, now=None]\u001b[A\n",
      "t:  36%|███▌      | 36/100 [00:01<00:03, 21.14it/s, now=None]\u001b[A\n",
      "t:  39%|███▉      | 39/100 [00:01<00:02, 21.10it/s, now=None]\u001b[A\n",
      "t:  42%|████▏     | 42/100 [00:01<00:02, 21.04it/s, now=None]\u001b[A\n",
      "t:  45%|████▌     | 45/100 [00:02<00:02, 21.15it/s, now=None]\u001b[A\n",
      "t:  48%|████▊     | 48/100 [00:02<00:02, 21.20it/s, now=None]\u001b[A\n",
      "t:  51%|█████     | 51/100 [00:02<00:02, 21.03it/s, now=None]\u001b[A\n",
      "t:  54%|█████▍    | 54/100 [00:02<00:02, 20.95it/s, now=None]\u001b[A\n",
      "t:  57%|█████▋    | 57/100 [00:02<00:02, 20.84it/s, now=None]\u001b[A\n",
      "t:  60%|██████    | 60/100 [00:02<00:01, 20.75it/s, now=None]\u001b[A\n",
      "t:  63%|██████▎   | 63/100 [00:02<00:01, 20.72it/s, now=None]\u001b[A\n",
      "t:  66%|██████▌   | 66/100 [00:03<00:01, 20.66it/s, now=None]\u001b[A\n",
      "t:  69%|██████▉   | 69/100 [00:03<00:01, 20.66it/s, now=None]\u001b[A\n",
      "t:  72%|███████▏  | 72/100 [00:03<00:01, 20.66it/s, now=None]\u001b[A\n",
      "t:  75%|███████▌  | 75/100 [00:03<00:01, 20.64it/s, now=None]\u001b[A\n",
      "t:  78%|███████▊  | 78/100 [00:03<00:01, 20.53it/s, now=None]\u001b[A\n",
      "t:  81%|████████  | 81/100 [00:03<00:00, 20.54it/s, now=None]\u001b[A\n",
      "t:  84%|████████▍ | 84/100 [00:03<00:00, 20.45it/s, now=None]\u001b[A\n",
      "t:  87%|████████▋ | 87/100 [00:04<00:00, 20.49it/s, now=None]\u001b[A\n",
      "t:  90%|█████████ | 90/100 [00:04<00:00, 20.59it/s, now=None]\u001b[A\n",
      "t:  93%|█████████▎| 93/100 [00:04<00:00, 20.61it/s, now=None]\u001b[A\n",
      "t:  96%|█████████▌| 96/100 [00:04<00:00, 20.51it/s, now=None]\u001b[A\n",
      "t:  99%|█████████▉| 99/100 [00:04<00:00, 20.57it/s, now=None]\u001b[A\n",
      "t:  10%|█         | 10/100 [2:24:54<00:01, 52.20it/s, now=None]A"
     ]
    },
    {
     "name": "stdout",
     "output_type": "stream",
     "text": [
      "Moviepy - Done !\n",
      "Moviepy - video ready iterasive_result/videos/model_180_2_activation_plot.mp4\n"
     ]
    },
    {
     "name": "stderr",
     "output_type": "stream",
     "text": [
      "t:  10%|█         | 10/100 [2:24:55<00:01, 52.20it/s, now=None]\n",
      "t:   0%|          | 0/100 [00:00<?, ?it/s, now=None]\u001b[A\n",
      "t:   4%|▍         | 4/100 [00:00<00:03, 31.50it/s, now=None]\u001b[A"
     ]
    },
    {
     "name": "stdout",
     "output_type": "stream",
     "text": [
      "Moviepy - Building video iterasive_result/videos/model_180_2_prediction_plot.mp4.\n",
      "Moviepy - Writing video iterasive_result/videos/model_180_2_prediction_plot.mp4\n",
      "\n"
     ]
    },
    {
     "name": "stderr",
     "output_type": "stream",
     "text": [
      "\n",
      "t:   7%|▋         | 7/100 [00:00<00:03, 28.17it/s, now=None]\u001b[A\n",
      "t:  10%|█         | 10/100 [00:00<00:03, 26.90it/s, now=None]\u001b[A\n",
      "t:  13%|█▎        | 13/100 [00:00<00:03, 26.29it/s, now=None]\u001b[A\n",
      "t:  16%|█▌        | 16/100 [00:00<00:03, 25.92it/s, now=None]\u001b[A\n",
      "t:  19%|█▉        | 19/100 [00:00<00:03, 25.65it/s, now=None]\u001b[A\n",
      "t:  22%|██▏       | 22/100 [00:00<00:03, 25.44it/s, now=None]\u001b[A\n",
      "t:  25%|██▌       | 25/100 [00:00<00:02, 25.36it/s, now=None]\u001b[A\n",
      "t:  28%|██▊       | 28/100 [00:01<00:02, 25.43it/s, now=None]\u001b[A\n",
      "t:  31%|███       | 31/100 [00:01<00:02, 25.35it/s, now=None]\u001b[A\n",
      "t:  34%|███▍      | 34/100 [00:01<00:02, 25.30it/s, now=None]\u001b[A\n",
      "t:  37%|███▋      | 37/100 [00:01<00:02, 25.39it/s, now=None]\u001b[A\n",
      "t:  40%|████      | 40/100 [00:01<00:02, 25.29it/s, now=None]\u001b[A\n",
      "t:  43%|████▎     | 43/100 [00:01<00:02, 25.26it/s, now=None]\u001b[A\n",
      "t:  46%|████▌     | 46/100 [00:01<00:02, 25.35it/s, now=None]\u001b[A\n",
      "t:  49%|████▉     | 49/100 [00:01<00:02, 25.27it/s, now=None]\u001b[A\n",
      "t:  52%|█████▏    | 52/100 [00:02<00:01, 25.37it/s, now=None]\u001b[A\n",
      "t:  55%|█████▌    | 55/100 [00:02<00:01, 25.45it/s, now=None]\u001b[A\n",
      "t:  58%|█████▊    | 58/100 [00:02<00:01, 25.44it/s, now=None]\u001b[A\n",
      "t:  61%|██████    | 61/100 [00:02<00:01, 25.46it/s, now=None]\u001b[A\n",
      "t:  64%|██████▍   | 64/100 [00:02<00:01, 25.57it/s, now=None]\u001b[A\n",
      "t:  67%|██████▋   | 67/100 [00:02<00:01, 25.54it/s, now=None]\u001b[A\n",
      "t:  70%|███████   | 70/100 [00:02<00:01, 25.63it/s, now=None]\u001b[A\n",
      "t:  73%|███████▎  | 73/100 [00:02<00:01, 25.88it/s, now=None]\u001b[A\n",
      "t:  76%|███████▌  | 76/100 [00:02<00:00, 25.81it/s, now=None]\u001b[A\n",
      "t:  79%|███████▉  | 79/100 [00:03<00:00, 25.59it/s, now=None]\u001b[A\n",
      "t:  82%|████████▏ | 82/100 [00:03<00:00, 25.55it/s, now=None]\u001b[A\n",
      "t:  85%|████████▌ | 85/100 [00:03<00:00, 25.44it/s, now=None]\u001b[A\n",
      "t:  88%|████████▊ | 88/100 [00:03<00:00, 25.38it/s, now=None]\u001b[A\n",
      "t:  91%|█████████ | 91/100 [00:03<00:00, 25.35it/s, now=None]\u001b[A\n",
      "t:  94%|█████████▍| 94/100 [00:03<00:00, 25.17it/s, now=None]\u001b[A\n",
      "t:  97%|█████████▋| 97/100 [00:03<00:00, 25.31it/s, now=None]\u001b[A\n",
      "t: 100%|██████████| 100/100 [00:03<00:00, 22.63it/s, now=None]\u001b[A\n",
      "t:  10%|█         | 10/100 [2:25:00<00:01, 52.20it/s, now=None][A"
     ]
    },
    {
     "name": "stdout",
     "output_type": "stream",
     "text": [
      "Moviepy - Done !\n",
      "Moviepy - video ready iterasive_result/videos/model_180_2_prediction_plot.mp4\n"
     ]
    }
   ],
   "source": [
    "if __name__ == '__main__':\n",
    "    first_layer = [7,8,9,10,20,30,60,90,180]\n",
    "    result_path_list = []\n",
    "    for i in first_layer:\n",
    "        result_path = 'iterasive_result/model_'+str(i)+'_2'\n",
    "        if os.path.exists(result_path):\n",
    "            result_path_list.append(result_path)\n",
    "\n",
    "    for result_path in result_path_list:\n",
    "        activation_png_list,prediction_png_list = get_image_path_list(result_path)\n",
    "        get_video(activation_png_list)\n",
    "        get_video(prediction_png_list)  "
   ]
  },
  {
   "cell_type": "markdown",
   "metadata": {},
   "source": [
    "# multilayer"
   ]
  },
  {
   "cell_type": "code",
   "execution_count": 3,
   "metadata": {},
   "outputs": [
    {
     "name": "stderr",
     "output_type": "stream",
     "text": [
      "t:   5%|▌         | 5/100 [00:00<00:02, 39.08it/s, now=None]"
     ]
    },
    {
     "name": "stdout",
     "output_type": "stream",
     "text": [
      "Moviepy - Building video iterasive_result/videos/model_2_2_2_activation_plot.mp4.\n",
      "Moviepy - Writing video iterasive_result/videos/model_2_2_2_activation_plot.mp4\n",
      "\n"
     ]
    },
    {
     "name": "stderr",
     "output_type": "stream",
     "text": [
      "                                                             \r"
     ]
    },
    {
     "name": "stdout",
     "output_type": "stream",
     "text": [
      "Moviepy - Done !\n",
      "Moviepy - video ready iterasive_result/videos/model_2_2_2_activation_plot.mp4\n"
     ]
    },
    {
     "name": "stderr",
     "output_type": "stream",
     "text": [
      "t:   5%|▌         | 5/100 [00:00<00:02, 41.30it/s, now=None]"
     ]
    },
    {
     "name": "stdout",
     "output_type": "stream",
     "text": [
      "Moviepy - Building video iterasive_result/videos/model_2_2_2_prediction_plot.mp4.\n",
      "Moviepy - Writing video iterasive_result/videos/model_2_2_2_prediction_plot.mp4\n",
      "\n"
     ]
    },
    {
     "name": "stderr",
     "output_type": "stream",
     "text": [
      "                                                             \r"
     ]
    },
    {
     "name": "stdout",
     "output_type": "stream",
     "text": [
      "Moviepy - Done !\n",
      "Moviepy - video ready iterasive_result/videos/model_2_2_2_prediction_plot.mp4\n"
     ]
    },
    {
     "name": "stderr",
     "output_type": "stream",
     "text": [
      "t:   5%|▌         | 5/100 [00:00<00:02, 39.98it/s, now=None]"
     ]
    },
    {
     "name": "stdout",
     "output_type": "stream",
     "text": [
      "Moviepy - Building video iterasive_result/videos/model_2_3_2_activation_plot.mp4.\n",
      "Moviepy - Writing video iterasive_result/videos/model_2_3_2_activation_plot.mp4\n",
      "\n"
     ]
    },
    {
     "name": "stderr",
     "output_type": "stream",
     "text": [
      "                                                             \r"
     ]
    },
    {
     "name": "stdout",
     "output_type": "stream",
     "text": [
      "Moviepy - Done !\n",
      "Moviepy - video ready iterasive_result/videos/model_2_3_2_activation_plot.mp4\n"
     ]
    },
    {
     "name": "stderr",
     "output_type": "stream",
     "text": [
      "t:   5%|▌         | 5/100 [00:00<00:02, 42.28it/s, now=None]"
     ]
    },
    {
     "name": "stdout",
     "output_type": "stream",
     "text": [
      "Moviepy - Building video iterasive_result/videos/model_2_3_2_prediction_plot.mp4.\n",
      "Moviepy - Writing video iterasive_result/videos/model_2_3_2_prediction_plot.mp4\n",
      "\n"
     ]
    },
    {
     "name": "stderr",
     "output_type": "stream",
     "text": [
      "                                                             \r"
     ]
    },
    {
     "name": "stdout",
     "output_type": "stream",
     "text": [
      "Moviepy - Done !\n",
      "Moviepy - video ready iterasive_result/videos/model_2_3_2_prediction_plot.mp4\n"
     ]
    },
    {
     "name": "stderr",
     "output_type": "stream",
     "text": [
      "t:   4%|▍         | 4/100 [00:00<00:02, 39.82it/s, now=None]"
     ]
    },
    {
     "name": "stdout",
     "output_type": "stream",
     "text": [
      "Moviepy - Building video iterasive_result/videos/model_2_5_2_activation_plot.mp4.\n",
      "Moviepy - Writing video iterasive_result/videos/model_2_5_2_activation_plot.mp4\n",
      "\n"
     ]
    },
    {
     "name": "stderr",
     "output_type": "stream",
     "text": [
      "                                                             \r"
     ]
    },
    {
     "name": "stdout",
     "output_type": "stream",
     "text": [
      "Moviepy - Done !\n",
      "Moviepy - video ready iterasive_result/videos/model_2_5_2_activation_plot.mp4\n"
     ]
    },
    {
     "name": "stderr",
     "output_type": "stream",
     "text": [
      "t:   5%|▌         | 5/100 [00:00<00:02, 41.65it/s, now=None]"
     ]
    },
    {
     "name": "stdout",
     "output_type": "stream",
     "text": [
      "Moviepy - Building video iterasive_result/videos/model_2_5_2_prediction_plot.mp4.\n",
      "Moviepy - Writing video iterasive_result/videos/model_2_5_2_prediction_plot.mp4\n",
      "\n"
     ]
    },
    {
     "name": "stderr",
     "output_type": "stream",
     "text": [
      "                                                             \r"
     ]
    },
    {
     "name": "stdout",
     "output_type": "stream",
     "text": [
      "Moviepy - Done !\n",
      "Moviepy - video ready iterasive_result/videos/model_2_5_2_prediction_plot.mp4\n"
     ]
    },
    {
     "name": "stderr",
     "output_type": "stream",
     "text": [
      "t:   4%|▍         | 4/100 [00:00<00:02, 38.29it/s, now=None]"
     ]
    },
    {
     "name": "stdout",
     "output_type": "stream",
     "text": [
      "Moviepy - Building video iterasive_result/videos/model_3_2_2_activation_plot.mp4.\n",
      "Moviepy - Writing video iterasive_result/videos/model_3_2_2_activation_plot.mp4\n",
      "\n"
     ]
    },
    {
     "name": "stderr",
     "output_type": "stream",
     "text": [
      "                                                             \r"
     ]
    },
    {
     "name": "stdout",
     "output_type": "stream",
     "text": [
      "Moviepy - Done !\n",
      "Moviepy - video ready iterasive_result/videos/model_3_2_2_activation_plot.mp4\n"
     ]
    },
    {
     "name": "stderr",
     "output_type": "stream",
     "text": [
      "t:   6%|▌         | 6/100 [00:00<00:02, 46.83it/s, now=None]"
     ]
    },
    {
     "name": "stdout",
     "output_type": "stream",
     "text": [
      "Moviepy - Building video iterasive_result/videos/model_3_2_2_prediction_plot.mp4.\n",
      "Moviepy - Writing video iterasive_result/videos/model_3_2_2_prediction_plot.mp4\n",
      "\n"
     ]
    },
    {
     "name": "stderr",
     "output_type": "stream",
     "text": [
      "                                                             \r"
     ]
    },
    {
     "name": "stdout",
     "output_type": "stream",
     "text": [
      "Moviepy - Done !\n",
      "Moviepy - video ready iterasive_result/videos/model_3_2_2_prediction_plot.mp4\n"
     ]
    },
    {
     "name": "stderr",
     "output_type": "stream",
     "text": [
      "t:   5%|▌         | 5/100 [00:00<00:02, 46.81it/s, now=None]"
     ]
    },
    {
     "name": "stdout",
     "output_type": "stream",
     "text": [
      "Moviepy - Building video iterasive_result/videos/model_3_3_2_activation_plot.mp4.\n",
      "Moviepy - Writing video iterasive_result/videos/model_3_3_2_activation_plot.mp4\n",
      "\n"
     ]
    },
    {
     "name": "stderr",
     "output_type": "stream",
     "text": [
      "                                                             \r"
     ]
    },
    {
     "name": "stdout",
     "output_type": "stream",
     "text": [
      "Moviepy - Done !\n",
      "Moviepy - video ready iterasive_result/videos/model_3_3_2_activation_plot.mp4\n"
     ]
    },
    {
     "name": "stderr",
     "output_type": "stream",
     "text": [
      "t:   5%|▌         | 5/100 [00:00<00:02, 40.94it/s, now=None]"
     ]
    },
    {
     "name": "stdout",
     "output_type": "stream",
     "text": [
      "Moviepy - Building video iterasive_result/videos/model_3_3_2_prediction_plot.mp4.\n",
      "Moviepy - Writing video iterasive_result/videos/model_3_3_2_prediction_plot.mp4\n",
      "\n"
     ]
    },
    {
     "name": "stderr",
     "output_type": "stream",
     "text": [
      "                                                             \r"
     ]
    },
    {
     "name": "stdout",
     "output_type": "stream",
     "text": [
      "Moviepy - Done !\n",
      "Moviepy - video ready iterasive_result/videos/model_3_3_2_prediction_plot.mp4\n"
     ]
    },
    {
     "name": "stderr",
     "output_type": "stream",
     "text": [
      "t:   4%|▍         | 4/100 [00:00<00:02, 37.16it/s, now=None]"
     ]
    },
    {
     "name": "stdout",
     "output_type": "stream",
     "text": [
      "Moviepy - Building video iterasive_result/videos/model_3_5_2_activation_plot.mp4.\n",
      "Moviepy - Writing video iterasive_result/videos/model_3_5_2_activation_plot.mp4\n",
      "\n"
     ]
    },
    {
     "name": "stderr",
     "output_type": "stream",
     "text": [
      "                                                             \r"
     ]
    },
    {
     "name": "stdout",
     "output_type": "stream",
     "text": [
      "Moviepy - Done !\n",
      "Moviepy - video ready iterasive_result/videos/model_3_5_2_activation_plot.mp4\n"
     ]
    },
    {
     "name": "stderr",
     "output_type": "stream",
     "text": [
      "t:   4%|▍         | 4/100 [00:00<00:02, 38.98it/s, now=None]"
     ]
    },
    {
     "name": "stdout",
     "output_type": "stream",
     "text": [
      "Moviepy - Building video iterasive_result/videos/model_3_5_2_prediction_plot.mp4.\n",
      "Moviepy - Writing video iterasive_result/videos/model_3_5_2_prediction_plot.mp4\n",
      "\n"
     ]
    },
    {
     "name": "stderr",
     "output_type": "stream",
     "text": [
      "                                                             \r"
     ]
    },
    {
     "name": "stdout",
     "output_type": "stream",
     "text": [
      "Moviepy - Done !\n",
      "Moviepy - video ready iterasive_result/videos/model_3_5_2_prediction_plot.mp4\n"
     ]
    },
    {
     "name": "stderr",
     "output_type": "stream",
     "text": [
      "t:   4%|▍         | 4/100 [00:00<00:02, 38.66it/s, now=None]"
     ]
    },
    {
     "name": "stdout",
     "output_type": "stream",
     "text": [
      "Moviepy - Building video iterasive_result/videos/model_5_2_2_activation_plot.mp4.\n",
      "Moviepy - Writing video iterasive_result/videos/model_5_2_2_activation_plot.mp4\n",
      "\n"
     ]
    },
    {
     "name": "stderr",
     "output_type": "stream",
     "text": [
      "                                                             \r"
     ]
    },
    {
     "name": "stdout",
     "output_type": "stream",
     "text": [
      "Moviepy - Done !\n",
      "Moviepy - video ready iterasive_result/videos/model_5_2_2_activation_plot.mp4\n"
     ]
    },
    {
     "name": "stderr",
     "output_type": "stream",
     "text": [
      "t:   6%|▌         | 6/100 [00:00<00:02, 43.07it/s, now=None]"
     ]
    },
    {
     "name": "stdout",
     "output_type": "stream",
     "text": [
      "Moviepy - Building video iterasive_result/videos/model_5_2_2_prediction_plot.mp4.\n",
      "Moviepy - Writing video iterasive_result/videos/model_5_2_2_prediction_plot.mp4\n",
      "\n"
     ]
    },
    {
     "name": "stderr",
     "output_type": "stream",
     "text": [
      "                                                             \r"
     ]
    },
    {
     "name": "stdout",
     "output_type": "stream",
     "text": [
      "Moviepy - Done !\n",
      "Moviepy - video ready iterasive_result/videos/model_5_2_2_prediction_plot.mp4\n"
     ]
    },
    {
     "name": "stderr",
     "output_type": "stream",
     "text": [
      "t:   5%|▌         | 5/100 [00:00<00:02, 36.56it/s, now=None]"
     ]
    },
    {
     "name": "stdout",
     "output_type": "stream",
     "text": [
      "Moviepy - Building video iterasive_result/videos/model_5_3_2_activation_plot.mp4.\n",
      "Moviepy - Writing video iterasive_result/videos/model_5_3_2_activation_plot.mp4\n",
      "\n"
     ]
    },
    {
     "name": "stderr",
     "output_type": "stream",
     "text": [
      "                                                             \r"
     ]
    },
    {
     "name": "stdout",
     "output_type": "stream",
     "text": [
      "Moviepy - Done !\n",
      "Moviepy - video ready iterasive_result/videos/model_5_3_2_activation_plot.mp4\n"
     ]
    },
    {
     "name": "stderr",
     "output_type": "stream",
     "text": [
      "t:   6%|▌         | 6/100 [00:00<00:01, 50.58it/s, now=None]"
     ]
    },
    {
     "name": "stdout",
     "output_type": "stream",
     "text": [
      "Moviepy - Building video iterasive_result/videos/model_5_3_2_prediction_plot.mp4.\n",
      "Moviepy - Writing video iterasive_result/videos/model_5_3_2_prediction_plot.mp4\n",
      "\n"
     ]
    },
    {
     "name": "stderr",
     "output_type": "stream",
     "text": [
      "                                                             \r"
     ]
    },
    {
     "name": "stdout",
     "output_type": "stream",
     "text": [
      "Moviepy - Done !\n",
      "Moviepy - video ready iterasive_result/videos/model_5_3_2_prediction_plot.mp4\n"
     ]
    },
    {
     "name": "stderr",
     "output_type": "stream",
     "text": [
      "t:   4%|▍         | 4/100 [00:00<00:02, 39.44it/s, now=None]"
     ]
    },
    {
     "name": "stdout",
     "output_type": "stream",
     "text": [
      "Moviepy - Building video iterasive_result/videos/model_5_5_2_activation_plot.mp4.\n",
      "Moviepy - Writing video iterasive_result/videos/model_5_5_2_activation_plot.mp4\n",
      "\n"
     ]
    },
    {
     "name": "stderr",
     "output_type": "stream",
     "text": [
      "                                                             \r"
     ]
    },
    {
     "name": "stdout",
     "output_type": "stream",
     "text": [
      "Moviepy - Done !\n",
      "Moviepy - video ready iterasive_result/videos/model_5_5_2_activation_plot.mp4\n"
     ]
    },
    {
     "name": "stderr",
     "output_type": "stream",
     "text": [
      "t:   5%|▌         | 5/100 [00:00<00:02, 43.36it/s, now=None]"
     ]
    },
    {
     "name": "stdout",
     "output_type": "stream",
     "text": [
      "Moviepy - Building video iterasive_result/videos/model_5_5_2_prediction_plot.mp4.\n",
      "Moviepy - Writing video iterasive_result/videos/model_5_5_2_prediction_plot.mp4\n",
      "\n"
     ]
    },
    {
     "name": "stderr",
     "output_type": "stream",
     "text": [
      "                                                             \r"
     ]
    },
    {
     "name": "stdout",
     "output_type": "stream",
     "text": [
      "Moviepy - Done !\n",
      "Moviepy - video ready iterasive_result/videos/model_5_5_2_prediction_plot.mp4\n"
     ]
    }
   ],
   "source": [
    "first_layer = [2,3,5]#10,20,30,90]\n",
    "second_layer = [2,3,5]#10,20,30,90]\n",
    "if __name__ == '__main__':\n",
    "    result_path_list = []\n",
    "    for i in first_layer:\n",
    "        for j in second_layer:\n",
    "            result_path = 'iterasive_result/model_'+str(i)+'_'+str(j)+'_2'\n",
    "            if os.path.exists(result_path):\n",
    "                result_path_list.append(result_path)\n",
    "\n",
    "    for result_path in result_path_list:\n",
    "        activation_png_list,prediction_png_list = get_image_path_list(result_path)\n",
    "        get_video(activation_png_list)\n",
    "        get_video(prediction_png_list)  "
   ]
  },
  {
   "cell_type": "code",
   "execution_count": 4,
   "metadata": {},
   "outputs": [
    {
     "data": {
      "text/html": [
       "<video src=\"iterasive_result/videos/model_3_5_2_activation_plot.mp4\" controls  >\n",
       "      Your browser does not support the <code>video</code> element.\n",
       "    </video>"
      ],
      "text/plain": [
       "<IPython.core.display.Video object>"
      ]
     },
     "execution_count": 4,
     "metadata": {},
     "output_type": "execute_result"
    }
   ],
   "source": [
    "from IPython.display import Video\n",
    "video_path = 'iterasive_result/videos/model_3_5_2_activation_plot.mp4'\n",
    "Video(video_path)"
   ]
  },
  {
   "cell_type": "code",
   "execution_count": null,
   "metadata": {},
   "outputs": [],
   "source": []
  }
 ],
 "metadata": {
  "kernelspec": {
   "display_name": "Python 3",
   "language": "python",
   "name": "python3"
  },
  "language_info": {
   "codemirror_mode": {
    "name": "ipython",
    "version": 3
   },
   "file_extension": ".py",
   "mimetype": "text/x-python",
   "name": "python",
   "nbconvert_exporter": "python",
   "pygments_lexer": "ipython3",
   "version": "3.6.8"
  }
 },
 "nbformat": 4,
 "nbformat_minor": 2
}

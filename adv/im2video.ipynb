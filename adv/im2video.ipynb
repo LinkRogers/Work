{
 "cells": [
  {
   "cell_type": "code",
   "execution_count": 1,
   "metadata": {},
   "outputs": [],
   "source": [
    "import os\n",
    "import imageio\n",
    "import numpy as np\n",
    "from moviepy.editor import *\n",
    "\n",
    "def get_video(im_path_list):\n",
    "    im_folder,im_name = os.path.split(im_path_list[0])\n",
    "    root, plot_name = os.path.split(im_folder)\n",
    "    \n",
    "    if 'Probility'in im_name:\n",
    "        plot_name = plot_name+'_predictiionProbility'\n",
    "        \n",
    "    clip = ImageSequenceClip(im_path_list, fps = 1)\n",
    "    video_name = plot_name+'.mp4'\n",
    "    video_path = os.path.join(root, 'videos')\n",
    "    if not os.path.exists(video_path):\n",
    "        os.makedirs(video_path)\n",
    "    #write to video\n",
    "    clip.write_videofile(os.path.join(video_path, video_name))\n",
    "\n",
    "def get_image_path_list(plot_path):\n",
    "    files= os.listdir(plot_path)\n",
    "    \n",
    "    activation_png_list = [png for png in files if 'activation.png' in png]\n",
    "    activation_png_list = sorted(activation_png_list, key = lambda x : int(x[5:x.find('_')]))\n",
    "    activation_png_list = [os.path.join(plot_path,png) for png in activation_png_list]\n",
    "    \n",
    "    predictProbility_png_list = [png for png in files if 'predictProbility.png' in png]\n",
    "    predictProbility_png_list = sorted(predictProbility_png_list, key = lambda x : int(x[5:x.find('_')]))\n",
    "    predictProbility_png_list = [os.path.join(plot_path,png) for png in predictProbility_png_list]\n",
    "    \n",
    "    if activation_png_list==[] or predictProbility_png_list==[]:\n",
    "        print('empty list!')\n",
    "    else:\n",
    "        return activation_png_list,predictProbility_png_list"
   ]
  },
  {
   "cell_type": "code",
   "execution_count": 11,
   "metadata": {
    "collapsed": true
   },
   "outputs": [
    {
     "name": "stderr",
     "output_type": "stream",
     "text": [
      "t:   5%|▌         | 5/100 [00:00<00:02, 40.48it/s, now=None]"
     ]
    },
    {
     "name": "stdout",
     "output_type": "stream",
     "text": [
      "Moviepy - Building video iterasive_result/videos/model_30_30_2_color_plot.mp4.\n",
      "Moviepy - Writing video iterasive_result/videos/model_30_30_2_color_plot.mp4\n",
      "\n"
     ]
    },
    {
     "name": "stderr",
     "output_type": "stream",
     "text": [
      "                                                             \r"
     ]
    },
    {
     "name": "stdout",
     "output_type": "stream",
     "text": [
      "Moviepy - Done !\n",
      "Moviepy - video ready iterasive_result/videos/model_30_30_2_color_plot.mp4\n"
     ]
    },
    {
     "name": "stderr",
     "output_type": "stream",
     "text": [
      "t:   4%|▍         | 4/100 [00:00<00:02, 39.15it/s, now=None]"
     ]
    },
    {
     "name": "stdout",
     "output_type": "stream",
     "text": [
      "Moviepy - Building video iterasive_result/videos/model_30_30_2_color_plot_predictiionProbility.mp4.\n",
      "Moviepy - Writing video iterasive_result/videos/model_30_30_2_color_plot_predictiionProbility.mp4\n",
      "\n"
     ]
    },
    {
     "name": "stderr",
     "output_type": "stream",
     "text": [
      "                                                             \r"
     ]
    },
    {
     "name": "stdout",
     "output_type": "stream",
     "text": [
      "Moviepy - Done !\n",
      "Moviepy - video ready iterasive_result/videos/model_30_30_2_color_plot_predictiionProbility.mp4\n"
     ]
    },
    {
     "name": "stderr",
     "output_type": "stream",
     "text": [
      "t:   6%|▌         | 6/100 [00:00<00:02, 44.69it/s, now=None]"
     ]
    },
    {
     "name": "stdout",
     "output_type": "stream",
     "text": [
      "Moviepy - Building video iterasive_result/videos/model_30_60_2_color_plot.mp4.\n",
      "Moviepy - Writing video iterasive_result/videos/model_30_60_2_color_plot.mp4\n",
      "\n"
     ]
    },
    {
     "name": "stderr",
     "output_type": "stream",
     "text": [
      "                                                             \r"
     ]
    },
    {
     "name": "stdout",
     "output_type": "stream",
     "text": [
      "Moviepy - Done !\n",
      "Moviepy - video ready iterasive_result/videos/model_30_60_2_color_plot.mp4\n"
     ]
    },
    {
     "name": "stderr",
     "output_type": "stream",
     "text": [
      "t:   4%|▍         | 4/100 [00:00<00:02, 37.82it/s, now=None]"
     ]
    },
    {
     "name": "stdout",
     "output_type": "stream",
     "text": [
      "Moviepy - Building video iterasive_result/videos/model_30_60_2_color_plot_predictiionProbility.mp4.\n",
      "Moviepy - Writing video iterasive_result/videos/model_30_60_2_color_plot_predictiionProbility.mp4\n",
      "\n"
     ]
    },
    {
     "name": "stderr",
     "output_type": "stream",
     "text": [
      "                                                             \r"
     ]
    },
    {
     "name": "stdout",
     "output_type": "stream",
     "text": [
      "Moviepy - Done !\n",
      "Moviepy - video ready iterasive_result/videos/model_30_60_2_color_plot_predictiionProbility.mp4\n"
     ]
    },
    {
     "name": "stderr",
     "output_type": "stream",
     "text": [
      "t:  10%|█         | 5/49 [00:00<00:00, 46.97it/s, now=None]"
     ]
    },
    {
     "name": "stdout",
     "output_type": "stream",
     "text": [
      "Moviepy - Building video iterasive_result/videos/model_60_30_2_color_plot.mp4.\n",
      "Moviepy - Writing video iterasive_result/videos/model_60_30_2_color_plot.mp4\n",
      "\n"
     ]
    },
    {
     "name": "stderr",
     "output_type": "stream",
     "text": [
      "                                                            \r"
     ]
    },
    {
     "name": "stdout",
     "output_type": "stream",
     "text": [
      "Moviepy - Done !\n",
      "Moviepy - video ready iterasive_result/videos/model_60_30_2_color_plot.mp4\n"
     ]
    },
    {
     "name": "stderr",
     "output_type": "stream",
     "text": [
      "t:   8%|▊         | 4/49 [00:00<00:01, 38.93it/s, now=None]"
     ]
    },
    {
     "name": "stdout",
     "output_type": "stream",
     "text": [
      "Moviepy - Building video iterasive_result/videos/model_60_30_2_color_plot_predictiionProbility.mp4.\n",
      "Moviepy - Writing video iterasive_result/videos/model_60_30_2_color_plot_predictiionProbility.mp4\n",
      "\n"
     ]
    },
    {
     "name": "stderr",
     "output_type": "stream",
     "text": [
      "                                                            \r"
     ]
    },
    {
     "name": "stdout",
     "output_type": "stream",
     "text": [
      "Moviepy - Done !\n",
      "Moviepy - video ready iterasive_result/videos/model_60_30_2_color_plot_predictiionProbility.mp4\n"
     ]
    }
   ],
   "source": [
    "if __name__ == '__main__':\n",
    "    first_layer = [30,60,90]\n",
    "    second_layer = [30,60,90]\n",
    "    colorplot_path_list = []\n",
    "    for i in first_layer:\n",
    "        for j in second_layer:\n",
    "            path = 'iterasive_result/model_'+str(i)+'_'+str(j)+'_2_color_plot'\n",
    "            if os.path.exists(path):\n",
    "                colorplot_path_list.append(path)\n",
    "\n",
    "    for colorplot_path in colorplot_path_list:\n",
    "        activation_png_list,predictProbility_png_list = get_image_path_list(colorplot_path)\n",
    "        get_video(activation_png_list)\n",
    "        get_video(predictProbility_png_list)  "
   ]
  },
  {
   "cell_type": "code",
   "execution_count": 12,
   "metadata": {
    "collapsed": true
   },
   "outputs": [
    {
     "name": "stderr",
     "output_type": "stream",
     "text": [
      "t:   5%|▌         | 5/100 [00:00<00:02, 42.98it/s, now=None]"
     ]
    },
    {
     "name": "stdout",
     "output_type": "stream",
     "text": [
      "Moviepy - Building video iterasive_result/videos/model_2_2_color_plot.mp4.\n",
      "Moviepy - Writing video iterasive_result/videos/model_2_2_color_plot.mp4\n",
      "\n"
     ]
    },
    {
     "name": "stderr",
     "output_type": "stream",
     "text": [
      "                                                             \r"
     ]
    },
    {
     "name": "stdout",
     "output_type": "stream",
     "text": [
      "Moviepy - Done !\n",
      "Moviepy - video ready iterasive_result/videos/model_2_2_color_plot.mp4\n"
     ]
    },
    {
     "name": "stderr",
     "output_type": "stream",
     "text": [
      "t:   5%|▌         | 5/100 [00:00<00:02, 44.83it/s, now=None]"
     ]
    },
    {
     "name": "stdout",
     "output_type": "stream",
     "text": [
      "Moviepy - Building video iterasive_result/videos/model_2_2_color_plot_predictiionProbility.mp4.\n",
      "Moviepy - Writing video iterasive_result/videos/model_2_2_color_plot_predictiionProbility.mp4\n",
      "\n"
     ]
    },
    {
     "name": "stderr",
     "output_type": "stream",
     "text": [
      "                                                             \r"
     ]
    },
    {
     "name": "stdout",
     "output_type": "stream",
     "text": [
      "Moviepy - Done !\n",
      "Moviepy - video ready iterasive_result/videos/model_2_2_color_plot_predictiionProbility.mp4\n"
     ]
    },
    {
     "name": "stderr",
     "output_type": "stream",
     "text": [
      "t:   6%|▌         | 6/100 [00:00<00:01, 52.49it/s, now=None]"
     ]
    },
    {
     "name": "stdout",
     "output_type": "stream",
     "text": [
      "Moviepy - Building video iterasive_result/videos/model_3_2_color_plot.mp4.\n",
      "Moviepy - Writing video iterasive_result/videos/model_3_2_color_plot.mp4\n",
      "\n"
     ]
    },
    {
     "name": "stderr",
     "output_type": "stream",
     "text": [
      "                                                             \r"
     ]
    },
    {
     "name": "stdout",
     "output_type": "stream",
     "text": [
      "Moviepy - Done !\n",
      "Moviepy - video ready iterasive_result/videos/model_3_2_color_plot.mp4\n"
     ]
    },
    {
     "name": "stderr",
     "output_type": "stream",
     "text": [
      "t:   4%|▍         | 4/100 [00:00<00:02, 38.44it/s, now=None]"
     ]
    },
    {
     "name": "stdout",
     "output_type": "stream",
     "text": [
      "Moviepy - Building video iterasive_result/videos/model_3_2_color_plot_predictiionProbility.mp4.\n",
      "Moviepy - Writing video iterasive_result/videos/model_3_2_color_plot_predictiionProbility.mp4\n",
      "\n"
     ]
    },
    {
     "name": "stderr",
     "output_type": "stream",
     "text": [
      "                                                             \r"
     ]
    },
    {
     "name": "stdout",
     "output_type": "stream",
     "text": [
      "Moviepy - Done !\n",
      "Moviepy - video ready iterasive_result/videos/model_3_2_color_plot_predictiionProbility.mp4\n"
     ]
    },
    {
     "name": "stderr",
     "output_type": "stream",
     "text": [
      "t:   5%|▌         | 5/100 [00:00<00:02, 44.77it/s, now=None]"
     ]
    },
    {
     "name": "stdout",
     "output_type": "stream",
     "text": [
      "Moviepy - Building video iterasive_result/videos/model_5_2_color_plot.mp4.\n",
      "Moviepy - Writing video iterasive_result/videos/model_5_2_color_plot.mp4\n",
      "\n"
     ]
    },
    {
     "name": "stderr",
     "output_type": "stream",
     "text": [
      "                                                             \r"
     ]
    },
    {
     "name": "stdout",
     "output_type": "stream",
     "text": [
      "Moviepy - Done !\n",
      "Moviepy - video ready iterasive_result/videos/model_5_2_color_plot.mp4\n"
     ]
    },
    {
     "name": "stderr",
     "output_type": "stream",
     "text": [
      "t:   6%|▌         | 6/100 [00:00<00:01, 49.26it/s, now=None]"
     ]
    },
    {
     "name": "stdout",
     "output_type": "stream",
     "text": [
      "Moviepy - Building video iterasive_result/videos/model_5_2_color_plot_predictiionProbility.mp4.\n",
      "Moviepy - Writing video iterasive_result/videos/model_5_2_color_plot_predictiionProbility.mp4\n",
      "\n"
     ]
    },
    {
     "name": "stderr",
     "output_type": "stream",
     "text": [
      "                                                             \r"
     ]
    },
    {
     "name": "stdout",
     "output_type": "stream",
     "text": [
      "Moviepy - Done !\n",
      "Moviepy - video ready iterasive_result/videos/model_5_2_color_plot_predictiionProbility.mp4\n"
     ]
    },
    {
     "name": "stderr",
     "output_type": "stream",
     "text": [
      "t:   5%|▌         | 5/100 [00:00<00:02, 41.89it/s, now=None]"
     ]
    },
    {
     "name": "stdout",
     "output_type": "stream",
     "text": [
      "Moviepy - Building video iterasive_result/videos/model_10_2_color_plot.mp4.\n",
      "Moviepy - Writing video iterasive_result/videos/model_10_2_color_plot.mp4\n",
      "\n"
     ]
    },
    {
     "name": "stderr",
     "output_type": "stream",
     "text": [
      "                                                              \r"
     ]
    },
    {
     "name": "stdout",
     "output_type": "stream",
     "text": [
      "Moviepy - Done !\n",
      "Moviepy - video ready iterasive_result/videos/model_10_2_color_plot.mp4\n"
     ]
    },
    {
     "name": "stderr",
     "output_type": "stream",
     "text": [
      "t:   4%|▍         | 4/100 [00:00<00:02, 39.32it/s, now=None]"
     ]
    },
    {
     "name": "stdout",
     "output_type": "stream",
     "text": [
      "Moviepy - Building video iterasive_result/videos/model_10_2_color_plot_predictiionProbility.mp4.\n",
      "Moviepy - Writing video iterasive_result/videos/model_10_2_color_plot_predictiionProbility.mp4\n",
      "\n"
     ]
    },
    {
     "name": "stderr",
     "output_type": "stream",
     "text": [
      "                                                             \r"
     ]
    },
    {
     "name": "stdout",
     "output_type": "stream",
     "text": [
      "Moviepy - Done !\n",
      "Moviepy - video ready iterasive_result/videos/model_10_2_color_plot_predictiionProbility.mp4\n"
     ]
    },
    {
     "name": "stderr",
     "output_type": "stream",
     "text": [
      "t:   5%|▌         | 5/100 [00:00<00:02, 42.69it/s, now=None]"
     ]
    },
    {
     "name": "stdout",
     "output_type": "stream",
     "text": [
      "Moviepy - Building video iterasive_result/videos/model_20_2_color_plot.mp4.\n",
      "Moviepy - Writing video iterasive_result/videos/model_20_2_color_plot.mp4\n",
      "\n"
     ]
    },
    {
     "name": "stderr",
     "output_type": "stream",
     "text": [
      "                                                             \r"
     ]
    },
    {
     "name": "stdout",
     "output_type": "stream",
     "text": [
      "Moviepy - Done !\n",
      "Moviepy - video ready iterasive_result/videos/model_20_2_color_plot.mp4\n"
     ]
    },
    {
     "name": "stderr",
     "output_type": "stream",
     "text": [
      "t:   4%|▍         | 4/100 [00:00<00:02, 39.94it/s, now=None]"
     ]
    },
    {
     "name": "stdout",
     "output_type": "stream",
     "text": [
      "Moviepy - Building video iterasive_result/videos/model_20_2_color_plot_predictiionProbility.mp4.\n",
      "Moviepy - Writing video iterasive_result/videos/model_20_2_color_plot_predictiionProbility.mp4\n",
      "\n"
     ]
    },
    {
     "name": "stderr",
     "output_type": "stream",
     "text": [
      "                                                             \r"
     ]
    },
    {
     "name": "stdout",
     "output_type": "stream",
     "text": [
      "Moviepy - Done !\n",
      "Moviepy - video ready iterasive_result/videos/model_20_2_color_plot_predictiionProbility.mp4\n"
     ]
    },
    {
     "name": "stderr",
     "output_type": "stream",
     "text": [
      "t:   5%|▌         | 5/100 [00:00<00:02, 41.26it/s, now=None]"
     ]
    },
    {
     "name": "stdout",
     "output_type": "stream",
     "text": [
      "Moviepy - Building video iterasive_result/videos/model_30_2_color_plot.mp4.\n",
      "Moviepy - Writing video iterasive_result/videos/model_30_2_color_plot.mp4\n",
      "\n"
     ]
    },
    {
     "name": "stderr",
     "output_type": "stream",
     "text": [
      "                                                             \r"
     ]
    },
    {
     "name": "stdout",
     "output_type": "stream",
     "text": [
      "Moviepy - Done !\n",
      "Moviepy - video ready iterasive_result/videos/model_30_2_color_plot.mp4\n"
     ]
    },
    {
     "name": "stderr",
     "output_type": "stream",
     "text": [
      "t:   4%|▍         | 4/100 [00:00<00:02, 38.75it/s, now=None]"
     ]
    },
    {
     "name": "stdout",
     "output_type": "stream",
     "text": [
      "Moviepy - Building video iterasive_result/videos/model_30_2_color_plot_predictiionProbility.mp4.\n",
      "Moviepy - Writing video iterasive_result/videos/model_30_2_color_plot_predictiionProbility.mp4\n",
      "\n"
     ]
    },
    {
     "name": "stderr",
     "output_type": "stream",
     "text": [
      "                                                             \r"
     ]
    },
    {
     "name": "stdout",
     "output_type": "stream",
     "text": [
      "Moviepy - Done !\n",
      "Moviepy - video ready iterasive_result/videos/model_30_2_color_plot_predictiionProbility.mp4\n"
     ]
    },
    {
     "name": "stderr",
     "output_type": "stream",
     "text": [
      "t:   5%|▌         | 5/100 [00:00<00:02, 40.67it/s, now=None]"
     ]
    },
    {
     "name": "stdout",
     "output_type": "stream",
     "text": [
      "Moviepy - Building video iterasive_result/videos/model_60_2_color_plot.mp4.\n",
      "Moviepy - Writing video iterasive_result/videos/model_60_2_color_plot.mp4\n",
      "\n"
     ]
    },
    {
     "name": "stderr",
     "output_type": "stream",
     "text": [
      "                                                             \r"
     ]
    },
    {
     "name": "stdout",
     "output_type": "stream",
     "text": [
      "Moviepy - Done !\n",
      "Moviepy - video ready iterasive_result/videos/model_60_2_color_plot.mp4\n"
     ]
    },
    {
     "name": "stderr",
     "output_type": "stream",
     "text": [
      "t:   5%|▌         | 5/100 [00:00<00:02, 46.26it/s, now=None]"
     ]
    },
    {
     "name": "stdout",
     "output_type": "stream",
     "text": [
      "Moviepy - Building video iterasive_result/videos/model_60_2_color_plot_predictiionProbility.mp4.\n",
      "Moviepy - Writing video iterasive_result/videos/model_60_2_color_plot_predictiionProbility.mp4\n",
      "\n"
     ]
    },
    {
     "name": "stderr",
     "output_type": "stream",
     "text": [
      "                                                             \r"
     ]
    },
    {
     "name": "stdout",
     "output_type": "stream",
     "text": [
      "Moviepy - Done !\n",
      "Moviepy - video ready iterasive_result/videos/model_60_2_color_plot_predictiionProbility.mp4\n"
     ]
    },
    {
     "ename": "IndexError",
     "evalue": "list index out of range",
     "output_type": "error",
     "traceback": [
      "\u001b[0;31m---------------------------------------------------------------------------\u001b[0m",
      "\u001b[0;31mIndexError\u001b[0m                                Traceback (most recent call last)",
      "\u001b[0;32m<ipython-input-12-3de930643b9b>\u001b[0m in \u001b[0;36m<module>\u001b[0;34m\u001b[0m\n\u001b[1;32m      9\u001b[0m     \u001b[0;32mfor\u001b[0m \u001b[0mcolorplot_path\u001b[0m \u001b[0;32min\u001b[0m \u001b[0mcolorplot_path_list\u001b[0m\u001b[0;34m:\u001b[0m\u001b[0;34m\u001b[0m\u001b[0;34m\u001b[0m\u001b[0m\n\u001b[1;32m     10\u001b[0m         \u001b[0mactivation_png_list\u001b[0m\u001b[0;34m,\u001b[0m\u001b[0mpredictProbility_png_list\u001b[0m \u001b[0;34m=\u001b[0m \u001b[0mget_image_path_list\u001b[0m\u001b[0;34m(\u001b[0m\u001b[0mcolorplot_path\u001b[0m\u001b[0;34m)\u001b[0m\u001b[0;34m\u001b[0m\u001b[0;34m\u001b[0m\u001b[0m\n\u001b[0;32m---> 11\u001b[0;31m         \u001b[0mget_video\u001b[0m\u001b[0;34m(\u001b[0m\u001b[0mactivation_png_list\u001b[0m\u001b[0;34m)\u001b[0m\u001b[0;34m\u001b[0m\u001b[0;34m\u001b[0m\u001b[0m\n\u001b[0m\u001b[1;32m     12\u001b[0m         \u001b[0mget_video\u001b[0m\u001b[0;34m(\u001b[0m\u001b[0mpredictProbility_png_list\u001b[0m\u001b[0;34m)\u001b[0m\u001b[0;34m\u001b[0m\u001b[0;34m\u001b[0m\u001b[0m\n",
      "\u001b[0;32m<ipython-input-1-af658b7b99bf>\u001b[0m in \u001b[0;36mget_video\u001b[0;34m(im_path_list)\u001b[0m\n\u001b[1;32m      5\u001b[0m \u001b[0;34m\u001b[0m\u001b[0m\n\u001b[1;32m      6\u001b[0m \u001b[0;32mdef\u001b[0m \u001b[0mget_video\u001b[0m\u001b[0;34m(\u001b[0m\u001b[0mim_path_list\u001b[0m\u001b[0;34m)\u001b[0m\u001b[0;34m:\u001b[0m\u001b[0;34m\u001b[0m\u001b[0;34m\u001b[0m\u001b[0m\n\u001b[0;32m----> 7\u001b[0;31m     \u001b[0mim_folder\u001b[0m\u001b[0;34m,\u001b[0m\u001b[0mim_name\u001b[0m \u001b[0;34m=\u001b[0m \u001b[0mos\u001b[0m\u001b[0;34m.\u001b[0m\u001b[0mpath\u001b[0m\u001b[0;34m.\u001b[0m\u001b[0msplit\u001b[0m\u001b[0;34m(\u001b[0m\u001b[0mim_path_list\u001b[0m\u001b[0;34m[\u001b[0m\u001b[0;36m0\u001b[0m\u001b[0;34m]\u001b[0m\u001b[0;34m)\u001b[0m\u001b[0;34m\u001b[0m\u001b[0;34m\u001b[0m\u001b[0m\n\u001b[0m\u001b[1;32m      8\u001b[0m     \u001b[0mroot\u001b[0m\u001b[0;34m,\u001b[0m \u001b[0mplot_name\u001b[0m \u001b[0;34m=\u001b[0m \u001b[0mos\u001b[0m\u001b[0;34m.\u001b[0m\u001b[0mpath\u001b[0m\u001b[0;34m.\u001b[0m\u001b[0msplit\u001b[0m\u001b[0;34m(\u001b[0m\u001b[0mim_folder\u001b[0m\u001b[0;34m)\u001b[0m\u001b[0;34m\u001b[0m\u001b[0;34m\u001b[0m\u001b[0m\n\u001b[1;32m      9\u001b[0m \u001b[0;34m\u001b[0m\u001b[0m\n",
      "\u001b[0;31mIndexError\u001b[0m: list index out of range"
     ]
    }
   ],
   "source": [
    "if __name__ == '__main__':\n",
    "    first_layer = [2,3,5,10,20,30,60,90]\n",
    "    colorplot_path_list = []\n",
    "    for i in first_layer:\n",
    "        path = 'iterasive_result/model_'+str(i)+'_2_color_plot'\n",
    "        if os.path.exists(path):\n",
    "            colorplot_path_list.append(path)\n",
    "\n",
    "    for colorplot_path in colorplot_path_list:\n",
    "        activation_png_list,predictProbility_png_list = get_image_path_list(colorplot_path)\n",
    "        get_video(activation_png_list)\n",
    "        get_video(predictProbility_png_list)  "
   ]
  },
  {
   "cell_type": "code",
   "execution_count": 22,
   "metadata": {},
   "outputs": [
    {
     "data": {
      "text/html": [
       "<video src=\"iterasive_result/videos/model_30_2_color_plot.mp4\" controls  >\n",
       "      Your browser does not support the <code>video</code> element.\n",
       "    </video>"
      ],
      "text/plain": [
       "<IPython.core.display.Video object>"
      ]
     },
     "execution_count": 22,
     "metadata": {},
     "output_type": "execute_result"
    }
   ],
   "source": [
    "from IPython.display import Video\n",
    "video_path = 'iterasive_result/videos/model_30_2_color_plot.mp4'\n",
    "Video(video_path)"
   ]
  },
  {
   "cell_type": "code",
   "execution_count": null,
   "metadata": {},
   "outputs": [],
   "source": [
    "plt.figure(figsize=(10, 10))\n",
    "plt.scatter(X_test[:, 0], X_test[:, 1], marker='o',s=4, c=data_activation_color, linewidths=2,cmap = 'gray')\n",
    "plt.title('epoch'+str(format(epoch_i,'0>3'))+'_'+model_name+'_activation',fontsize=20)\n",
    "plt.savefig(directory+'/'+'epoch'+str(format(epoch_i,'0>3'))+'_'+model_name+'_activation')\n",
    "plt.close()\n",
    "Y_test = model.predict(X_test)\n",
    "\n",
    "plt.figure(figsize=(10, 10))\n",
    "intensity = [np.append(k*np.array([255,255]),0)/255.0 for k in Y_test]\n",
    "plt.scatter(X_test[:, 0], X_test[:, 1], marker='o',s=3, c=intensity, linewidths=1)\n",
    "plt.title('epoch'+str(format(epoch_i,'0>3'))+'_'+model_name+'_predictProbility',fontsize=20)\n",
    "plt.savefig(directory+'/'+'epoch'+str(format(epoch_i,'0>3'))+'_'+model_name+'_predictProbility')    \n",
    "plt.close()"
   ]
  }
 ],
 "metadata": {
  "kernelspec": {
   "display_name": "Python 3",
   "language": "python",
   "name": "python3"
  },
  "language_info": {
   "codemirror_mode": {
    "name": "ipython",
    "version": 3
   },
   "file_extension": ".py",
   "mimetype": "text/x-python",
   "name": "python",
   "nbconvert_exporter": "python",
   "pygments_lexer": "ipython3",
   "version": "3.6.8"
  }
 },
 "nbformat": 4,
 "nbformat_minor": 2
}

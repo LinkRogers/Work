{
 "cells": [
  {
   "cell_type": "code",
   "execution_count": 108,
   "metadata": {},
   "outputs": [],
   "source": [
    "import os\n",
    "path = \"iterasive_result/model_3_2_2_color_plot\" #文件夹目录\n",
    "files= os.listdir(path)\n",
    "activation_png = [png for png in files if png[-14:]=='activation.png']\n",
    "#path[-22:]\n",
    "activation_png = sorted(activation_png, key = lambda x : int(x[5:x.find('_')]))"
   ]
  },
  {
   "cell_type": "code",
   "execution_count": 109,
   "metadata": {},
   "outputs": [],
   "source": [
    "import imageio\n",
    "outfilename = path[-22:]+'.gif' # 转化的GIF图片名称\n",
    "filenames = []\n",
    "for filename in activation_png:\n",
    "    filenames.append(filename)\n",
    "frames = []\n",
    "for image_name in filenames:\n",
    "    im = imageio.imread(path+'/'+image_name)           # 读取方式上存在略微区别，由于是直接读取数据，并不需要后续处理\n",
    "    im = np.array(im)\n",
    "    frames.append(im)\n",
    "\n",
    "imageio.mimsave(outfilename, frames, 'GIF', duration=1)"
   ]
  },
  {
   "cell_type": "code",
   "execution_count": 110,
   "metadata": {},
   "outputs": [
    {
     "name": "stderr",
     "output_type": "stream",
     "text": [
      "t:   5%|▌         | 5/100 [00:00<00:02, 43.55it/s, now=None]"
     ]
    },
    {
     "name": "stdout",
     "output_type": "stream",
     "text": [
      "Moviepy - Building video new.mp4.\n",
      "Moviepy - Writing video new.mp4\n",
      "\n"
     ]
    },
    {
     "name": "stderr",
     "output_type": "stream",
     "text": [
      "                                                             \r"
     ]
    },
    {
     "name": "stdout",
     "output_type": "stream",
     "text": [
      "Moviepy - Done !\n",
      "Moviepy - video ready new.mp4\n"
     ]
    }
   ],
   "source": [
    "#转化成视频\n",
    "from moviepy.editor import *\n",
    "\n",
    "im_path = [path+'/'+x for x in filenames]\n",
    "clip = ImageSequenceClip(im_path, fps = 1)\n",
    " \n",
    "#使用音频与帧表合成视频\n",
    "clip.write_videofile('new.mp4')"
   ]
  },
  {
   "cell_type": "code",
   "execution_count": 111,
   "metadata": {},
   "outputs": [
    {
     "data": {
      "text/plain": [
       "['iterasive_result/model_3_2_2_color_plot/epoch0_3_2_2_color_plot_activation.png',\n",
       " 'iterasive_result/model_3_2_2_color_plot/epoch1_3_2_2_color_plot_activation.png',\n",
       " 'iterasive_result/model_3_2_2_color_plot/epoch2_3_2_2_color_plot_activation.png',\n",
       " 'iterasive_result/model_3_2_2_color_plot/epoch3_3_2_2_color_plot_activation.png',\n",
       " 'iterasive_result/model_3_2_2_color_plot/epoch4_3_2_2_color_plot_activation.png',\n",
       " 'iterasive_result/model_3_2_2_color_plot/epoch5_3_2_2_color_plot_activation.png',\n",
       " 'iterasive_result/model_3_2_2_color_plot/epoch6_3_2_2_color_plot_activation.png',\n",
       " 'iterasive_result/model_3_2_2_color_plot/epoch7_3_2_2_color_plot_activation.png',\n",
       " 'iterasive_result/model_3_2_2_color_plot/epoch8_3_2_2_color_plot_activation.png',\n",
       " 'iterasive_result/model_3_2_2_color_plot/epoch9_3_2_2_color_plot_activation.png',\n",
       " 'iterasive_result/model_3_2_2_color_plot/epoch10_3_2_2_color_plot_activation.png',\n",
       " 'iterasive_result/model_3_2_2_color_plot/epoch11_3_2_2_color_plot_activation.png',\n",
       " 'iterasive_result/model_3_2_2_color_plot/epoch12_3_2_2_color_plot_activation.png',\n",
       " 'iterasive_result/model_3_2_2_color_plot/epoch13_3_2_2_color_plot_activation.png',\n",
       " 'iterasive_result/model_3_2_2_color_plot/epoch14_3_2_2_color_plot_activation.png',\n",
       " 'iterasive_result/model_3_2_2_color_plot/epoch15_3_2_2_color_plot_activation.png',\n",
       " 'iterasive_result/model_3_2_2_color_plot/epoch16_3_2_2_color_plot_activation.png',\n",
       " 'iterasive_result/model_3_2_2_color_plot/epoch17_3_2_2_color_plot_activation.png',\n",
       " 'iterasive_result/model_3_2_2_color_plot/epoch18_3_2_2_color_plot_activation.png',\n",
       " 'iterasive_result/model_3_2_2_color_plot/epoch19_3_2_2_color_plot_activation.png',\n",
       " 'iterasive_result/model_3_2_2_color_plot/epoch20_3_2_2_color_plot_activation.png',\n",
       " 'iterasive_result/model_3_2_2_color_plot/epoch21_3_2_2_color_plot_activation.png',\n",
       " 'iterasive_result/model_3_2_2_color_plot/epoch22_3_2_2_color_plot_activation.png',\n",
       " 'iterasive_result/model_3_2_2_color_plot/epoch23_3_2_2_color_plot_activation.png',\n",
       " 'iterasive_result/model_3_2_2_color_plot/epoch24_3_2_2_color_plot_activation.png',\n",
       " 'iterasive_result/model_3_2_2_color_plot/epoch25_3_2_2_color_plot_activation.png',\n",
       " 'iterasive_result/model_3_2_2_color_plot/epoch26_3_2_2_color_plot_activation.png',\n",
       " 'iterasive_result/model_3_2_2_color_plot/epoch27_3_2_2_color_plot_activation.png',\n",
       " 'iterasive_result/model_3_2_2_color_plot/epoch28_3_2_2_color_plot_activation.png',\n",
       " 'iterasive_result/model_3_2_2_color_plot/epoch29_3_2_2_color_plot_activation.png',\n",
       " 'iterasive_result/model_3_2_2_color_plot/epoch30_3_2_2_color_plot_activation.png',\n",
       " 'iterasive_result/model_3_2_2_color_plot/epoch31_3_2_2_color_plot_activation.png',\n",
       " 'iterasive_result/model_3_2_2_color_plot/epoch32_3_2_2_color_plot_activation.png',\n",
       " 'iterasive_result/model_3_2_2_color_plot/epoch33_3_2_2_color_plot_activation.png',\n",
       " 'iterasive_result/model_3_2_2_color_plot/epoch34_3_2_2_color_plot_activation.png',\n",
       " 'iterasive_result/model_3_2_2_color_plot/epoch35_3_2_2_color_plot_activation.png',\n",
       " 'iterasive_result/model_3_2_2_color_plot/epoch36_3_2_2_color_plot_activation.png',\n",
       " 'iterasive_result/model_3_2_2_color_plot/epoch37_3_2_2_color_plot_activation.png',\n",
       " 'iterasive_result/model_3_2_2_color_plot/epoch38_3_2_2_color_plot_activation.png',\n",
       " 'iterasive_result/model_3_2_2_color_plot/epoch39_3_2_2_color_plot_activation.png',\n",
       " 'iterasive_result/model_3_2_2_color_plot/epoch40_3_2_2_color_plot_activation.png',\n",
       " 'iterasive_result/model_3_2_2_color_plot/epoch41_3_2_2_color_plot_activation.png',\n",
       " 'iterasive_result/model_3_2_2_color_plot/epoch42_3_2_2_color_plot_activation.png',\n",
       " 'iterasive_result/model_3_2_2_color_plot/epoch43_3_2_2_color_plot_activation.png',\n",
       " 'iterasive_result/model_3_2_2_color_plot/epoch44_3_2_2_color_plot_activation.png',\n",
       " 'iterasive_result/model_3_2_2_color_plot/epoch45_3_2_2_color_plot_activation.png',\n",
       " 'iterasive_result/model_3_2_2_color_plot/epoch46_3_2_2_color_plot_activation.png',\n",
       " 'iterasive_result/model_3_2_2_color_plot/epoch47_3_2_2_color_plot_activation.png',\n",
       " 'iterasive_result/model_3_2_2_color_plot/epoch48_3_2_2_color_plot_activation.png',\n",
       " 'iterasive_result/model_3_2_2_color_plot/epoch49_3_2_2_color_plot_activation.png',\n",
       " 'iterasive_result/model_3_2_2_color_plot/epoch50_3_2_2_color_plot_activation.png',\n",
       " 'iterasive_result/model_3_2_2_color_plot/epoch51_3_2_2_color_plot_activation.png',\n",
       " 'iterasive_result/model_3_2_2_color_plot/epoch52_3_2_2_color_plot_activation.png',\n",
       " 'iterasive_result/model_3_2_2_color_plot/epoch53_3_2_2_color_plot_activation.png',\n",
       " 'iterasive_result/model_3_2_2_color_plot/epoch54_3_2_2_color_plot_activation.png',\n",
       " 'iterasive_result/model_3_2_2_color_plot/epoch55_3_2_2_color_plot_activation.png',\n",
       " 'iterasive_result/model_3_2_2_color_plot/epoch56_3_2_2_color_plot_activation.png',\n",
       " 'iterasive_result/model_3_2_2_color_plot/epoch57_3_2_2_color_plot_activation.png',\n",
       " 'iterasive_result/model_3_2_2_color_plot/epoch58_3_2_2_color_plot_activation.png',\n",
       " 'iterasive_result/model_3_2_2_color_plot/epoch59_3_2_2_color_plot_activation.png',\n",
       " 'iterasive_result/model_3_2_2_color_plot/epoch60_3_2_2_color_plot_activation.png',\n",
       " 'iterasive_result/model_3_2_2_color_plot/epoch61_3_2_2_color_plot_activation.png',\n",
       " 'iterasive_result/model_3_2_2_color_plot/epoch62_3_2_2_color_plot_activation.png',\n",
       " 'iterasive_result/model_3_2_2_color_plot/epoch63_3_2_2_color_plot_activation.png',\n",
       " 'iterasive_result/model_3_2_2_color_plot/epoch64_3_2_2_color_plot_activation.png',\n",
       " 'iterasive_result/model_3_2_2_color_plot/epoch65_3_2_2_color_plot_activation.png',\n",
       " 'iterasive_result/model_3_2_2_color_plot/epoch66_3_2_2_color_plot_activation.png',\n",
       " 'iterasive_result/model_3_2_2_color_plot/epoch67_3_2_2_color_plot_activation.png',\n",
       " 'iterasive_result/model_3_2_2_color_plot/epoch68_3_2_2_color_plot_activation.png',\n",
       " 'iterasive_result/model_3_2_2_color_plot/epoch69_3_2_2_color_plot_activation.png',\n",
       " 'iterasive_result/model_3_2_2_color_plot/epoch70_3_2_2_color_plot_activation.png',\n",
       " 'iterasive_result/model_3_2_2_color_plot/epoch71_3_2_2_color_plot_activation.png',\n",
       " 'iterasive_result/model_3_2_2_color_plot/epoch72_3_2_2_color_plot_activation.png',\n",
       " 'iterasive_result/model_3_2_2_color_plot/epoch73_3_2_2_color_plot_activation.png',\n",
       " 'iterasive_result/model_3_2_2_color_plot/epoch74_3_2_2_color_plot_activation.png',\n",
       " 'iterasive_result/model_3_2_2_color_plot/epoch75_3_2_2_color_plot_activation.png',\n",
       " 'iterasive_result/model_3_2_2_color_plot/epoch76_3_2_2_color_plot_activation.png',\n",
       " 'iterasive_result/model_3_2_2_color_plot/epoch77_3_2_2_color_plot_activation.png',\n",
       " 'iterasive_result/model_3_2_2_color_plot/epoch78_3_2_2_color_plot_activation.png',\n",
       " 'iterasive_result/model_3_2_2_color_plot/epoch79_3_2_2_color_plot_activation.png',\n",
       " 'iterasive_result/model_3_2_2_color_plot/epoch80_3_2_2_color_plot_activation.png',\n",
       " 'iterasive_result/model_3_2_2_color_plot/epoch81_3_2_2_color_plot_activation.png',\n",
       " 'iterasive_result/model_3_2_2_color_plot/epoch82_3_2_2_color_plot_activation.png',\n",
       " 'iterasive_result/model_3_2_2_color_plot/epoch83_3_2_2_color_plot_activation.png',\n",
       " 'iterasive_result/model_3_2_2_color_plot/epoch84_3_2_2_color_plot_activation.png',\n",
       " 'iterasive_result/model_3_2_2_color_plot/epoch85_3_2_2_color_plot_activation.png',\n",
       " 'iterasive_result/model_3_2_2_color_plot/epoch86_3_2_2_color_plot_activation.png',\n",
       " 'iterasive_result/model_3_2_2_color_plot/epoch87_3_2_2_color_plot_activation.png',\n",
       " 'iterasive_result/model_3_2_2_color_plot/epoch88_3_2_2_color_plot_activation.png',\n",
       " 'iterasive_result/model_3_2_2_color_plot/epoch89_3_2_2_color_plot_activation.png',\n",
       " 'iterasive_result/model_3_2_2_color_plot/epoch90_3_2_2_color_plot_activation.png',\n",
       " 'iterasive_result/model_3_2_2_color_plot/epoch91_3_2_2_color_plot_activation.png',\n",
       " 'iterasive_result/model_3_2_2_color_plot/epoch92_3_2_2_color_plot_activation.png',\n",
       " 'iterasive_result/model_3_2_2_color_plot/epoch93_3_2_2_color_plot_activation.png',\n",
       " 'iterasive_result/model_3_2_2_color_plot/epoch94_3_2_2_color_plot_activation.png',\n",
       " 'iterasive_result/model_3_2_2_color_plot/epoch95_3_2_2_color_plot_activation.png',\n",
       " 'iterasive_result/model_3_2_2_color_plot/epoch96_3_2_2_color_plot_activation.png',\n",
       " 'iterasive_result/model_3_2_2_color_plot/epoch97_3_2_2_color_plot_activation.png',\n",
       " 'iterasive_result/model_3_2_2_color_plot/epoch98_3_2_2_color_plot_activation.png',\n",
       " 'iterasive_result/model_3_2_2_color_plot/epoch99_3_2_2_color_plot_activation.png']"
      ]
     },
     "execution_count": 111,
     "metadata": {},
     "output_type": "execute_result"
    }
   ],
   "source": [
    "im_path"
   ]
  },
  {
   "cell_type": "code",
   "execution_count": null,
   "metadata": {},
   "outputs": [],
   "source": []
  }
 ],
 "metadata": {
  "kernelspec": {
   "display_name": "Python 3",
   "language": "python",
   "name": "python3"
  },
  "language_info": {
   "codemirror_mode": {
    "name": "ipython",
    "version": 3
   },
   "file_extension": ".py",
   "mimetype": "text/x-python",
   "name": "python",
   "nbconvert_exporter": "python",
   "pygments_lexer": "ipython3",
   "version": "3.6.8"
  }
 },
 "nbformat": 4,
 "nbformat_minor": 2
}

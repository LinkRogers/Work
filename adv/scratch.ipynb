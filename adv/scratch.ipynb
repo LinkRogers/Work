{
 "cells": [
  {
   "cell_type": "code",
   "execution_count": 119,
   "metadata": {},
   "outputs": [],
   "source": [
    "import os\n",
    "path = \"iterasive_result/model_4_3_2_color_plot\" #文件夹目录\n",
    "files= os.listdir(path)\n",
    "activation_png = [png for png in files if png[-14:]=='activation.png']\n",
    "#path[-22:]\n",
    "activation_png = sorted(activation_png, key = lambda x : int(x[5:x.find('_')]))"
   ]
  },
  {
   "cell_type": "code",
   "execution_count": 120,
   "metadata": {},
   "outputs": [],
   "source": [
    "import imageio\n",
    "outfilename = path+'/'+path[-22:]+'.gif' # 转化的GIF图片名称\n",
    "filenames = []\n",
    "for filename in activation_png:\n",
    "    filenames.append(filename)\n",
    "frames = []\n",
    "for image_name in filenames:\n",
    "    im = imageio.imread(path+'/'+image_name)           # 读取方式上存在略微区别，由于是直接读取数据，并不需要后续处理\n",
    "    im = np.array(im)\n",
    "    frames.append(im)\n",
    "\n",
    "imageio.mimsave(outfilename, frames, 'GIF', duration=1)"
   ]
  },
  {
   "cell_type": "code",
   "execution_count": 121,
   "metadata": {},
   "outputs": [
    {
     "name": "stderr",
     "output_type": "stream",
     "text": [
      "t:   7%|▋         | 7/100 [00:00<00:01, 65.71it/s, now=None]"
     ]
    },
    {
     "name": "stdout",
     "output_type": "stream",
     "text": [
      "Moviepy - Building video iterasive_result/model_4_3_2_color_plot/model_4_3_2_color_plot.mp4.\n",
      "Moviepy - Writing video iterasive_result/model_4_3_2_color_plot/model_4_3_2_color_plot.mp4\n",
      "\n"
     ]
    },
    {
     "name": "stderr",
     "output_type": "stream",
     "text": [
      "                                                             "
     ]
    },
    {
     "name": "stdout",
     "output_type": "stream",
     "text": [
      "Moviepy - Done !\n",
      "Moviepy - video ready iterasive_result/model_4_3_2_color_plot/model_4_3_2_color_plot.mp4\n"
     ]
    },
    {
     "name": "stderr",
     "output_type": "stream",
     "text": [
      "\r"
     ]
    }
   ],
   "source": [
    "#转化成视频\n",
    "from moviepy.editor import *\n",
    "\n",
    "im_path = [path+'/'+x for x in filenames]\n",
    "clip = ImageSequenceClip(im_path, fps = 1)\n",
    "\n",
    "video_name = path[-22:]\n",
    "#使用音频与帧表合成视频\n",
    "clip.write_videofile(path+'/'+video_name+'.mp4')"
   ]
  },
  {
   "cell_type": "code",
   "execution_count": null,
   "metadata": {},
   "outputs": [],
   "source": []
  }
 ],
 "metadata": {
  "kernelspec": {
   "display_name": "Python 3",
   "language": "python",
   "name": "python3"
  },
  "language_info": {
   "codemirror_mode": {
    "name": "ipython",
    "version": 3
   },
   "file_extension": ".py",
   "mimetype": "text/x-python",
   "name": "python",
   "nbconvert_exporter": "python",
   "pygments_lexer": "ipython3",
   "version": "3.6.8"
  }
 },
 "nbformat": 4,
 "nbformat_minor": 2
}
